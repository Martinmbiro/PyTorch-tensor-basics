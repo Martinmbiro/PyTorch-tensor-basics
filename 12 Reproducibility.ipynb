{
  "nbformat": 4,
  "nbformat_minor": 0,
  "metadata": {
    "colab": {
      "provenance": [],
      "toc_visible": true,
      "authorship_tag": "ABX9TyNJOdW++TbG211V5FF6nLou"
    },
    "kernelspec": {
      "name": "python3",
      "display_name": "Python 3"
    },
    "language_info": {
      "name": "python"
    }
  },
  "cells": [
    {
      "cell_type": "markdown",
      "source": [
        "# **Reproducibility**\n",
        "> Reproducibility is a way to reduce randomness in creation of tensors, making sure that you get the same or very similar results when the code is run multiple times"
      ],
      "metadata": {
        "id": "TMF2HIPayfzZ"
      }
    },
    {
      "cell_type": "code",
      "execution_count": null,
      "metadata": {
        "id": "ke74VZKMx6Zs",
        "colab": {
          "base_uri": "https://localhost:8080/",
          "height": 35
        },
        "outputId": "16198ac6-5a61-472b-8eef-1612ca1648f4"
      },
      "outputs": [
        {
          "output_type": "execute_result",
          "data": {
            "text/plain": [
              "'2.5.1+cu121'"
            ],
            "application/vnd.google.colaboratory.intrinsic+json": {
              "type": "string"
            }
          },
          "metadata": {},
          "execution_count": 1
        }
      ],
      "source": [
        "# import torch\n",
        "import torch\n",
        "torch.__version__"
      ]
    },
    {
      "cell_type": "code",
      "source": [
        "# create random tensors\n",
        "a = torch.rand(2, 3)\n",
        "b = torch.rand(2, 3)\n",
        "\n",
        "# print a, b\n",
        "print(a)\n",
        "print('\\n', b)\n",
        "\n",
        "# check for equality\n",
        "print('\\n', a == b)"
      ],
      "metadata": {
        "colab": {
          "base_uri": "https://localhost:8080/"
        },
        "id": "yLWJPq1N45fp",
        "outputId": "595b4281-9cdb-4e04-b77f-fb5bf4414c39"
      },
      "execution_count": null,
      "outputs": [
        {
          "output_type": "stream",
          "name": "stdout",
          "text": [
            "tensor([[0.1266, 0.2074, 0.4046],\n",
            "        [0.9223, 0.8818, 0.5804]])\n",
            "\n",
            " tensor([[0.9194, 0.9376, 0.7753],\n",
            "        [0.1787, 0.0154, 0.3168]])\n",
            "\n",
            " tensor([[False, False, False],\n",
            "        [False, False, False]])\n"
          ]
        }
      ]
    },
    {
      "cell_type": "markdown",
      "source": [
        "> 📝 **Note**\n",
        "+ [`torch.manual_seed(seed)`](https://pytorch.org/docs/stable/generated/torch.manual_seed.html#torch-manual-seed) sets the seed for generating random numbers on all devices, such that tensors generated will be of the same value"
      ],
      "metadata": {
        "id": "jS-_SyMi5rtb"
      }
    },
    {
      "cell_type": "code",
      "source": [],
      "metadata": {
        "colab": {
          "base_uri": "https://localhost:8080/"
        },
        "id": "TQxkvQtH6eEY",
        "outputId": "7d8d5e6d-4209-44bc-9b57-88e0847eebfb"
      },
      "execution_count": null,
      "outputs": [
        {
          "output_type": "execute_result",
          "data": {
            "text/plain": [
              "<torch._C.Generator at 0x7e4694d6bfb0>"
            ]
          },
          "metadata": {},
          "execution_count": 11
        }
      ]
    },
    {
      "cell_type": "code",
      "source": [
        "# setting random seed\n",
        "torch.manual_seed(42)\n",
        "\n",
        "# create random tensor\n",
        "c = torch.rand(2, 3)\n",
        "\n",
        "# setting the same random seed\n",
        "torch.manual_seed(42)\n",
        "\n",
        "d = torch.rand(2, 3)\n",
        "\n",
        "# print a, b\n",
        "print(c)\n",
        "print('\\n', d)\n",
        "\n",
        "# check for equality\n",
        "print('\\n', c == d)"
      ],
      "metadata": {
        "colab": {
          "base_uri": "https://localhost:8080/"
        },
        "id": "s5Fdo62I6wAo",
        "outputId": "f4e0fb90-8487-44bd-89de-40944164e948"
      },
      "execution_count": null,
      "outputs": [
        {
          "output_type": "stream",
          "name": "stdout",
          "text": [
            "tensor([[0.8823, 0.9150, 0.3829],\n",
            "        [0.9593, 0.3904, 0.6009]])\n",
            "\n",
            " tensor([[0.8823, 0.9150, 0.3829],\n",
            "        [0.9593, 0.3904, 0.6009]])\n",
            "\n",
            " tensor([[True, True, True],\n",
            "        [True, True, True]])\n"
          ]
        }
      ]
    },
    {
      "cell_type": "markdown",
      "source": [
        "> ▶️ **Up Next**  \n",
        "\n",
        "> Device agnostic code"
      ],
      "metadata": {
        "id": "kDrdsuHiltGE"
      }
    }
  ]
}