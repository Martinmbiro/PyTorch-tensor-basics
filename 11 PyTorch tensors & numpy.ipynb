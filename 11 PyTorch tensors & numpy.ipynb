{
  "nbformat": 4,
  "nbformat_minor": 0,
  "metadata": {
    "colab": {
      "provenance": [],
      "toc_visible": true,
      "authorship_tag": "ABX9TyOaisCNn8TvbKbwRtW+HSWm",
      "include_colab_link": true
    },
    "kernelspec": {
      "name": "python3",
      "display_name": "Python 3"
    },
    "language_info": {
      "name": "python"
    }
  },
  "cells": [
    {
      "cell_type": "markdown",
      "metadata": {
        "id": "view-in-github",
        "colab_type": "text"
      },
      "source": [
        "<a href=\"https://colab.research.google.com/github/Martinmbiro/PyTorch-tensor-basics/blob/main/11%20PyTorch%20tensors%20%26%20numpy.ipynb\" target=\"_parent\"><img src=\"https://colab.research.google.com/assets/colab-badge.svg\" alt=\"Open In Colab\"/></a>"
      ]
    },
    {
      "cell_type": "markdown",
      "source": [
        "# **[`PyTorch`](https://pytorch.org/) [`Tensors`](https://pytorch.org/docs/stable/tensors.html#) & [`Numpy`](https://numpy.org/)**\n",
        "> Since `NumPy` is a popular numerical computation library, `PyTorch` has functionality to interact with it, through two main methods:\n",
        "+ [`torch.from_numpy(ndarray)`](https://pytorch.org/docs/stable/generated/torch.from_numpy.html#torch.from_numpy)\n",
        "+ [`Tensor.numpy(*, force=False)`](https://pytorch.org/docs/stable/generated/torch.Tensor.numpy.html#torch-tensor-numpy)"
      ],
      "metadata": {
        "id": "4UVUkjwQ3w9j"
      }
    },
    {
      "cell_type": "markdown",
      "source": [
        "### [`torch.from_numpy(ndarray)`](https://pytorch.org/docs/stable/generated/torch.from_numpy.html#torch.from_numpy)\n",
        "> Creates a [`Tensor`](https://pytorch.org/docs/stable/tensors.html#torch.Tensor) from a [`numpy.ndarray`](https://numpy.org/doc/stable/reference/generated/numpy.ndarray.html#numpy.ndarray)\n",
        "+ The returned `Tensor` and `ndarray` share the same memory.\n",
        "+ Modifications to the `Tensor` will be reflected in the `ndarray` and vice versa\n",
        "+ The returned `Tensor` is not resizable."
      ],
      "metadata": {
        "id": "KtMRKkcr26EO"
      }
    },
    {
      "cell_type": "code",
      "execution_count": null,
      "metadata": {
        "id": "qBOvHG4y3d2M"
      },
      "outputs": [],
      "source": [
        "# import numpy, torch\n",
        "import numpy as np\n",
        "import torch"
      ]
    },
    {
      "cell_type": "code",
      "source": [
        "# creating an ndarray\n",
        "a = np.zeros(12).reshape(2, 2, 3)\n",
        "a"
      ],
      "metadata": {
        "colab": {
          "base_uri": "https://localhost:8080/"
        },
        "id": "H09xt0tz4Sur",
        "outputId": "53d82a3d-d589-4075-fb93-52fa9108361b"
      },
      "execution_count": null,
      "outputs": [
        {
          "output_type": "execute_result",
          "data": {
            "text/plain": [
              "array([[[0., 0., 0.],\n",
              "        [0., 0., 0.]],\n",
              "\n",
              "       [[0., 0., 0.],\n",
              "        [0., 0., 0.]]])"
            ]
          },
          "metadata": {},
          "execution_count": 8
        }
      ]
    },
    {
      "cell_type": "code",
      "source": [
        "# creating a tensor from ndarray a\n",
        "t = torch.from_numpy(a)\n",
        "t"
      ],
      "metadata": {
        "colab": {
          "base_uri": "https://localhost:8080/"
        },
        "id": "-TMiiflX50jG",
        "outputId": "5571f6ff-6c85-4367-c936-94d1d3d0b2ef"
      },
      "execution_count": null,
      "outputs": [
        {
          "output_type": "execute_result",
          "data": {
            "text/plain": [
              "tensor([[[0., 0., 0.],\n",
              "         [0., 0., 0.]],\n",
              "\n",
              "        [[0., 0., 0.],\n",
              "         [0., 0., 0.]]], dtype=torch.float64)"
            ]
          },
          "metadata": {},
          "execution_count": 11
        }
      ]
    },
    {
      "cell_type": "code",
      "source": [
        "# change a value in the tensor\n",
        "t[0, 1, 2] = 1\n",
        "\n",
        "# display the ndarray\n",
        "a"
      ],
      "metadata": {
        "colab": {
          "base_uri": "https://localhost:8080/"
        },
        "id": "QmBGjUc97jVU",
        "outputId": "8fd12967-74fa-4a72-b429-618b234b0efe"
      },
      "execution_count": null,
      "outputs": [
        {
          "output_type": "execute_result",
          "data": {
            "text/plain": [
              "array([[[0., 0., 0.],\n",
              "        [0., 0., 1.]],\n",
              "\n",
              "       [[0., 0., 0.],\n",
              "        [0., 0., 0.]]])"
            ]
          },
          "metadata": {},
          "execution_count": 12
        }
      ]
    },
    {
      "cell_type": "markdown",
      "source": [
        "### [`Tensor.numpy(*, force=False)`](https://pytorch.org/docs/stable/generated/torch.Tensor.numpy.html#torch-tensor-numpy)\n",
        "> Returns the tensor as a NumPy `ndarray`"
      ],
      "metadata": {
        "id": "FvN2Ih9D2-Bj"
      }
    },
    {
      "cell_type": "code",
      "source": [
        "# create a tensor\n",
        "b = torch.arange(1, 7).reshape(1, 3, 2)\n",
        "b"
      ],
      "metadata": {
        "colab": {
          "base_uri": "https://localhost:8080/"
        },
        "id": "OZ5l4qbz3AV_",
        "outputId": "ff8d0baf-3939-462e-ae36-566d5c158c04"
      },
      "execution_count": null,
      "outputs": [
        {
          "output_type": "execute_result",
          "data": {
            "text/plain": [
              "tensor([[[1, 2],\n",
              "         [3, 4],\n",
              "         [5, 6]]])"
            ]
          },
          "metadata": {},
          "execution_count": 20
        }
      ]
    },
    {
      "cell_type": "code",
      "source": [
        "# create a numpy array\n",
        "n = b.numpy()\n",
        "\n",
        "n[0, 1, 1] = 10"
      ],
      "metadata": {
        "id": "-5kSARDSwhw2"
      },
      "execution_count": null,
      "outputs": []
    },
    {
      "cell_type": "code",
      "source": [
        "# display original tensor\n",
        "b"
      ],
      "metadata": {
        "colab": {
          "base_uri": "https://localhost:8080/"
        },
        "id": "vsEZY0MSw7XT",
        "outputId": "c1b61f6c-cd00-40e5-86c8-6c5757b9f33d"
      },
      "execution_count": null,
      "outputs": [
        {
          "output_type": "execute_result",
          "data": {
            "text/plain": [
              "tensor([[[ 1,  2],\n",
              "         [ 3, 10],\n",
              "         [ 5,  6]]])"
            ]
          },
          "metadata": {},
          "execution_count": 25
        }
      ]
    },
    {
      "cell_type": "markdown",
      "source": [
        "> ▶️ **Up Next**  \n",
        "\n",
        "> Tensor reproducibility\n",
        "\n"
      ],
      "metadata": {
        "id": "aN6nWDXAk4KE"
      }
    }
  ]
}