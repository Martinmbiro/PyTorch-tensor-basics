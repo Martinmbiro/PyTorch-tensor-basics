{
  "nbformat": 4,
  "nbformat_minor": 0,
  "metadata": {
    "colab": {
      "provenance": [],
      "toc_visible": true,
      "authorship_tag": "ABX9TyOQlroLk6+1MWdWeh2zZ7J+",
      "include_colab_link": true
    },
    "kernelspec": {
      "name": "python3",
      "display_name": "Python 3"
    },
    "language_info": {
      "name": "python"
    }
  },
  "cells": [
    {
      "cell_type": "markdown",
      "metadata": {
        "id": "view-in-github",
        "colab_type": "text"
      },
      "source": [
        "<a href=\"https://colab.research.google.com/github/Martinmbiro/PyTorch-tensor-basics/blob/main/03%20Zeros%20%26%20ones.ipynb\" target=\"_parent\"><img src=\"https://colab.research.google.com/assets/colab-badge.svg\" alt=\"Open In Colab\"/></a>"
      ]
    },
    {
      "cell_type": "markdown",
      "source": [
        "# **Zeros & Ones**\n",
        "> Sometimes we want to create tensors filled with `0` or `1`, for instance when [masking](https://www.alooba.com/skills/concepts/deep-learning/mask/#:~:text=Mask%20is%20a%20concept%20in,in%20deep%20learning%20are%20numerous.)"
      ],
      "metadata": {
        "id": "3lN4a3aqHrrg"
      }
    },
    {
      "cell_type": "code",
      "source": [
        "import torch\n",
        "print(torch.__version__)"
      ],
      "metadata": {
        "colab": {
          "base_uri": "https://localhost:8080/"
        },
        "id": "FXROEgnkFYQi",
        "outputId": "407dcaa4-0318-4c7f-f0c9-cf9ec1dd8d0b"
      },
      "execution_count": null,
      "outputs": [
        {
          "output_type": "stream",
          "name": "stdout",
          "text": [
            "2.5.0+cu121\n"
          ]
        }
      ]
    },
    {
      "cell_type": "markdown",
      "source": [
        "## [`torch.zeros`](https://pytorch.org/docs/stable/generated/torch.zeros.html#torch-zeros)\n",
        "\n",
        "```\n",
        "torch.zeros(*size, *, out=None, dtype=None, layout=torch.strided, device=None, requires_grad=False)\n",
        "```\n",
        "> Returns a tensor filled with the scalar value `0`, with the shape defined by the variable argument `size`"
      ],
      "metadata": {
        "id": "37rcYIv3FRNS"
      }
    },
    {
      "cell_type": "code",
      "execution_count": null,
      "metadata": {
        "colab": {
          "base_uri": "https://localhost:8080/"
        },
        "id": "lmndMaO5G6To",
        "outputId": "14954bbd-c023-4940-e3fc-8d4dff6054ff"
      },
      "outputs": [
        {
          "output_type": "execute_result",
          "data": {
            "text/plain": [
              "tensor([[0., 0., 0., 0.],\n",
              "        [0., 0., 0., 0.],\n",
              "        [0., 0., 0., 0.]])"
            ]
          },
          "metadata": {},
          "execution_count": 2
        }
      ],
      "source": [
        "zeros = torch.zeros(3, 4)\n",
        "zeros"
      ]
    },
    {
      "cell_type": "code",
      "source": [
        "# data type\n",
        "zeros.dtype"
      ],
      "metadata": {
        "colab": {
          "base_uri": "https://localhost:8080/"
        },
        "id": "k53_49AmGJRt",
        "outputId": "23510ac0-e7f7-4dd9-cbaf-36dc8e161aef"
      },
      "execution_count": null,
      "outputs": [
        {
          "output_type": "execute_result",
          "data": {
            "text/plain": [
              "torch.float32"
            ]
          },
          "metadata": {},
          "execution_count": 3
        }
      ]
    },
    {
      "cell_type": "markdown",
      "source": [
        "## [`torch.ones`](https://pytorch.org/docs/stable/generated/torch.ones.html#torch-ones)\n",
        "\n",
        "```\n",
        "torch.ones(*size, *, out=None, dtype=None, layout=torch.strided, device=None, requires_grad=False)\n",
        "```\n",
        "> Returns a tensor filled with the scalar value `1`, with the shape defined by the variable argument `size"
      ],
      "metadata": {
        "id": "8CcE4y1xGYch"
      }
    },
    {
      "cell_type": "code",
      "source": [
        "ones = torch.ones(size=(3, 4))\n",
        "ones"
      ],
      "metadata": {
        "colab": {
          "base_uri": "https://localhost:8080/"
        },
        "id": "CLz0hW61GftO",
        "outputId": "381373ab-dd44-423e-b1b4-3072e15d578f"
      },
      "execution_count": null,
      "outputs": [
        {
          "output_type": "execute_result",
          "data": {
            "text/plain": [
              "tensor([[1., 1., 1., 1.],\n",
              "        [1., 1., 1., 1.],\n",
              "        [1., 1., 1., 1.]])"
            ]
          },
          "metadata": {},
          "execution_count": 4
        }
      ]
    },
    {
      "cell_type": "code",
      "source": [
        "# data type\n",
        "ones.dtype"
      ],
      "metadata": {
        "id": "mYNMkhpsGozb",
        "outputId": "5bdaa397-c4b8-4cc3-d47e-ef3de4920ca4",
        "colab": {
          "base_uri": "https://localhost:8080/"
        }
      },
      "execution_count": null,
      "outputs": [
        {
          "output_type": "execute_result",
          "data": {
            "text/plain": [
              "torch.float32"
            ]
          },
          "metadata": {},
          "execution_count": 5
        }
      ]
    },
    {
      "cell_type": "markdown",
      "source": [
        "> ▶️ **Up Next**  \n",
        "\n",
        "> Creating tensors using numerical range and *tensors_like*"
      ],
      "metadata": {
        "id": "Vg74UKgXm873"
      }
    }
  ]
}