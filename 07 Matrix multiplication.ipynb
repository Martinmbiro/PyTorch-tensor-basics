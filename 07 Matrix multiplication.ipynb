{
  "cells": [
    {
      "cell_type": "markdown",
      "metadata": {
        "id": "uuAMCX09H0k0"
      },
      "source": [
        "# **Matrix Multiplication**\n",
        "> 📝 **Note**  \n",
        "> There's two main ways of carrying out multiplication in neural networks and deep learning:\n",
        "+ Element-wise multiplication (as seen in the previous notebook)  \n",
        ">> [`torch.mul(input, other, *, out=None)`](https://pytorch.org/docs/stable/generated/torch.mul.html#torch.mul)\n",
        "+ Matrix multiplication (*dot product of matrices*)\n",
        ">> [`torch.matmul(input, other, *, out=None)`](https://pytorch.org/docs/stable/generated/torch.matmul.html#torch.matmul)  \n",
        ">> + Operator for matrix multiplication is `@`"
      ]
    },
    {
      "cell_type": "markdown",
      "metadata": {
        "id": "A62BbOstKFk0"
      },
      "source": [
        "> 📝 **Note**  \n",
        "> Matrix multiplication needs to satisfy two rules:\n",
        "1. **Inner dimensions** must match\n",
        ">> + `(3, 2) @ (3, 2)` - won't work\n",
        ">> + `(2, 3) @ (3, 2)` - will work\n",
        ">> + `(3, 2) @ (2, 3)` - will work\n",
        "2. Resulting tensor has the shape from the **outer dimension**\n",
        ">> + `(3, 2) @ (2, 3)` - `(3, 3)`\n",
        ">> + `(2, 3) @ (3, 2)` - `(2, 2)`"
      ]
    },
    {
      "cell_type": "markdown",
      "metadata": {
        "id": "aHNQqWzkGW6_"
      },
      "source": [
        "> 📚 **Reference**\n",
        "+ A refresher on matrix multiplication can be found linked [`here`](https://byjus.com/maths/matrix-multiplication/), or [`here`](https://www.mathsisfun.com/algebra/matrix-multiplying.html) if you like"
      ]
    },
    {
      "cell_type": "code",
      "execution_count": null,
      "metadata": {
        "colab": {
          "background_save": true,
          "base_uri": "https://localhost:8080/"
        },
        "id": "2nNcMNucO7ER",
        "outputId": "5ca61220-41c8-44d7-8123-d72fc944af3b"
      },
      "outputs": [
        {
          "name": "stdout",
          "output_type": "stream",
          "text": [
            "2.5.1+cu121\n"
          ]
        }
      ],
      "source": [
        "# import torch\n",
        "import torch\n",
        "print(torch.__version__)"
      ]
    },
    {
      "cell_type": "code",
      "execution_count": null,
      "metadata": {
        "colab": {
          "base_uri": "https://localhost:8080/"
        },
        "id": "iofsZBUgNTWr",
        "outputId": "de5b273f-d6aa-4ca1-878c-75552fc0dfd5"
      },
      "outputs": [
        {
          "data": {
            "text/plain": [
              "tensor([[0.7685, 0.5890],\n",
              "        [0.7082, 0.7527]])"
            ]
          },
          "execution_count": 3,
          "metadata": {},
          "output_type": "execute_result"
        }
      ],
      "source": [
        "# multiplying (2, 3) (3, 2)\n",
        "torch.matmul(torch.rand(2, 3), torch.rand(3, 2))"
      ]
    },
    {
      "cell_type": "code",
      "execution_count": null,
      "metadata": {
        "colab": {
          "base_uri": "https://localhost:8080/"
        },
        "id": "S26h46w2OpRN",
        "outputId": "f2939e6b-5d57-4241-e659-3a406a082f04"
      },
      "outputs": [
        {
          "data": {
            "text/plain": [
              "tensor([[[0.8555, 0.5804, 0.2863],\n",
              "         [0.4875, 0.0773, 0.7296]],\n",
              "\n",
              "        [[0.3714, 0.1724, 0.1928],\n",
              "         [0.5727, 0.7041, 0.8164]]])"
            ]
          },
          "execution_count": 12,
          "metadata": {},
          "output_type": "execute_result"
        }
      ],
      "source": [
        "# adding a third dimension\n",
        "a = torch.rand(2, 2, 3)\n",
        "a"
      ]
    },
    {
      "cell_type": "code",
      "execution_count": null,
      "metadata": {
        "colab": {
          "base_uri": "https://localhost:8080/"
        },
        "id": "fbxFW3MIOvay",
        "outputId": "a16e5850-27e7-48fd-c64e-c7bfde163934"
      },
      "outputs": [
        {
          "data": {
            "text/plain": [
              "tensor([[0.1681, 0.7891],\n",
              "        [0.4112, 0.3580],\n",
              "        [0.9528, 0.6477]])"
            ]
          },
          "execution_count": 15,
          "metadata": {},
          "output_type": "execute_result"
        }
      ],
      "source": [
        "b = torch.rand(3, 2)\n",
        "b"
      ]
    },
    {
      "cell_type": "code",
      "execution_count": null,
      "metadata": {
        "colab": {
          "base_uri": "https://localhost:8080/"
        },
        "id": "bM-2ol-zOztJ",
        "outputId": "735ed962-aeda-4f3f-e4bc-92c46b87146d"
      },
      "outputs": [
        {
          "data": {
            "text/plain": [
              "tensor([[[0.6553, 1.0683],\n",
              "         [0.8090, 0.8850]],\n",
              "\n",
              "        [[0.3170, 0.4797],\n",
              "         [1.1638, 1.2329]]])"
            ]
          },
          "execution_count": 16,
          "metadata": {},
          "output_type": "execute_result"
        }
      ],
      "source": [
        "torch.matmul(a, b)"
      ]
    },
    {
      "cell_type": "code",
      "execution_count": null,
      "metadata": {
        "colab": {
          "base_uri": "https://localhost:8080/",
          "height": 176
        },
        "id": "zr8Z5lZ8M8LK",
        "outputId": "363977c5-393d-43ca-da29-addb96cc539c"
      },
      "outputs": [
        {
          "ename": "RuntimeError",
          "evalue": "mat1 and mat2 shapes cannot be multiplied (3x2 and 3x2)",
          "output_type": "error",
          "traceback": [
            "\u001b[0;31m---------------------------------------------------------------------------\u001b[0m",
            "\u001b[0;31mRuntimeError\u001b[0m                              Traceback (most recent call last)",
            "\u001b[0;32m<ipython-input-2-364ad8c891b4>\u001b[0m in \u001b[0;36m<cell line: 3>\u001b[0;34m()\u001b[0m\n\u001b[1;32m      1\u001b[0m \u001b[0;31m# multiplying (3, 2) (3, 2) matrix\u001b[0m\u001b[0;34m\u001b[0m\u001b[0;34m\u001b[0m\u001b[0m\n\u001b[1;32m      2\u001b[0m \u001b[0;31m# will yield an error due to mismatch\u001b[0m\u001b[0;34m\u001b[0m\u001b[0;34m\u001b[0m\u001b[0m\n\u001b[0;32m----> 3\u001b[0;31m \u001b[0mtorch\u001b[0m\u001b[0;34m.\u001b[0m\u001b[0mmatmul\u001b[0m\u001b[0;34m(\u001b[0m\u001b[0mtorch\u001b[0m\u001b[0;34m.\u001b[0m\u001b[0mrand\u001b[0m\u001b[0;34m(\u001b[0m\u001b[0;36m3\u001b[0m\u001b[0;34m,\u001b[0m \u001b[0;36m2\u001b[0m\u001b[0;34m)\u001b[0m\u001b[0;34m,\u001b[0m \u001b[0mtorch\u001b[0m\u001b[0;34m.\u001b[0m\u001b[0mrand\u001b[0m\u001b[0;34m(\u001b[0m\u001b[0;36m3\u001b[0m\u001b[0;34m,\u001b[0m \u001b[0;36m2\u001b[0m\u001b[0;34m)\u001b[0m\u001b[0;34m)\u001b[0m\u001b[0;34m\u001b[0m\u001b[0;34m\u001b[0m\u001b[0m\n\u001b[0m",
            "\u001b[0;31mRuntimeError\u001b[0m: mat1 and mat2 shapes cannot be multiplied (3x2 and 3x2)"
          ]
        }
      ],
      "source": [
        "# multiplying (3, 2) (3, 2) matrix\n",
        "# will yield an error due to mismatch\n",
        "torch.matmul(torch.rand(3, 2), torch.rand(3, 2))"
      ]
    },
    {
      "cell_type": "markdown",
      "metadata": {
        "id": "F9Xe-FCRHUpO"
      },
      "source": [
        "### Dealing with shape mismatch\n",
        "> To deal with tensor shape issues, we can transpose (reverse their shape) using [`Tensor.T`](https://pytorch.org/docs/stable/tensors.html#torch.Tensor.T)"
      ]
    },
    {
      "cell_type": "code",
      "execution_count": null,
      "metadata": {
        "colab": {
          "base_uri": "https://localhost:8080/"
        },
        "id": "X9Oc4FvyJYSm",
        "outputId": "216394f3-b70c-4728-cb4f-deefd1909a63"
      },
      "outputs": [
        {
          "data": {
            "text/plain": [
              "tensor([[0.4361, 0.4147, 0.3250],\n",
              "        [0.9530, 1.1176, 0.8903],\n",
              "        [1.0676, 0.9844, 0.7692]])"
            ]
          },
          "execution_count": 29,
          "metadata": {},
          "output_type": "execute_result"
        }
      ],
      "source": [
        "torch.matmul(torch.rand(3, 2), torch.rand(3, 2).T)"
      ]
    },
    {
      "cell_type": "markdown",
      "source": [
        "> ▶️ **Up Next**  \n",
        "\n",
        "> Tensor aggregation\n",
        "\n"
      ],
      "metadata": {
        "id": "1ynkPk__i9zN"
      }
    }
  ],
  "metadata": {
    "colab": {
      "provenance": [],
      "toc_visible": true,
      "authorship_tag": "ABX9TyNzlsxWR1aoiy3uT5cp1njd"
    },
    "kernelspec": {
      "display_name": "Python 3",
      "name": "python3"
    },
    "language_info": {
      "name": "python"
    }
  },
  "nbformat": 4,
  "nbformat_minor": 0
}