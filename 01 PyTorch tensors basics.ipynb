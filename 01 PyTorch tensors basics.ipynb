{
  "cells": [
    {
      "cell_type": "markdown",
      "metadata": {
        "id": "NvZarB5tELYF"
      },
      "source": [
        "# **PyTorch Tensors**\n",
        "> PyTorch tensors are multi-dimensional arrays, similar to arrays in [`Numpy`](https://numpy.org/) but with additional features that make them suitable for _deep learning_\n",
        "\n",
        "> 📝 **Note**\n",
        "+ The [`torch.Tensor`](https://pytorch.org/docs/stable/tensors.html#torch.Tensor) class is the fundamental / central data structures in PyTorch"
      ]
    },
    {
      "cell_type": "code",
      "execution_count": null,
      "metadata": {
        "colab": {
          "base_uri": "https://localhost:8080/"
        },
        "id": "BU0ABGrCIO1L",
        "outputId": "9889fca0-3284-4c5a-d4f4-f831c2a74b69"
      },
      "outputs": [
        {
          "name": "stdout",
          "output_type": "stream",
          "text": [
            "2.5.0+cu121\n"
          ]
        }
      ],
      "source": [
        "# import pytorch\n",
        "import torch\n",
        "\n",
        "# print the version\n",
        "print(torch.__version__)"
      ]
    },
    {
      "cell_type": "markdown",
      "metadata": {
        "id": "vea2n7nPJ-3A"
      },
      "source": [
        "## **Creating tensors**\n",
        "> PyTorch tensors can be of various types: _scalar_, _vector_, _matrix_ and _tensor_\n",
        "+ To create a tensor with pre-existing data, use [`torch.tensor()`](https://pytorch.org/docs/stable/generated/torch.tensor.html#torch-tensor) constructor\n",
        "+ Find link to documentation [`here`](https://pytorch.org/docs/stable/tensors.html)"
      ]
    },
    {
      "cell_type": "markdown",
      "metadata": {
        "id": "3nDYAzeLKgj2"
      },
      "source": [
        "### Scalar\n",
        "+ A _scalar_ is a _zero-dimension_ single number\n"
      ]
    },
    {
      "cell_type": "code",
      "execution_count": null,
      "metadata": {
        "colab": {
          "base_uri": "https://localhost:8080/"
        },
        "id": "iC6Pc3qgKo8-",
        "outputId": "43855ca0-83ac-4a6d-859b-133710249176"
      },
      "outputs": [
        {
          "data": {
            "text/plain": [
              "tensor(7)"
            ]
          },
          "execution_count": 3,
          "metadata": {},
          "output_type": "execute_result"
        }
      ],
      "source": [
        "sc = torch.tensor(7)\n",
        "sc"
      ]
    },
    {
      "cell_type": "markdown",
      "metadata": {
        "id": "zFItkdZL_6Si"
      },
      "source": [
        "+ `Tensor.item` returns the value of this tensor as a standard Python number.\n",
        "> Only works for tensors with one item though"
      ]
    },
    {
      "cell_type": "code",
      "execution_count": null,
      "metadata": {
        "colab": {
          "base_uri": "https://localhost:8080/"
        },
        "id": "q8PHzo_p_5CN",
        "outputId": "73fc935e-35b4-49bb-b8fd-f204d34edb14"
      },
      "outputs": [
        {
          "data": {
            "text/plain": [
              "7"
            ]
          },
          "execution_count": 6,
          "metadata": {},
          "output_type": "execute_result"
        }
      ],
      "source": [
        "# get item\n",
        "sc.item()"
      ]
    },
    {
      "cell_type": "markdown",
      "metadata": {
        "id": "_f_JH5GiA5sD"
      },
      "source": [
        "+ `Tensor.dim()` or `Tensor.ndim` returns the number of dimensions of the tensor."
      ]
    },
    {
      "cell_type": "code",
      "execution_count": null,
      "metadata": {
        "colab": {
          "base_uri": "https://localhost:8080/"
        },
        "id": "z4uvGbJ_AzMb",
        "outputId": "cd0d72de-6de1-4ea2-d636-54c163c496ab"
      },
      "outputs": [
        {
          "data": {
            "text/plain": [
              "0"
            ]
          },
          "execution_count": 27,
          "metadata": {},
          "output_type": "execute_result"
        }
      ],
      "source": [
        "# find dimensions\n",
        "sc.ndim"
      ]
    },
    {
      "cell_type": "markdown",
      "metadata": {
        "id": "lh89YE2fDTcG"
      },
      "source": [
        "### Vector\n",
        "+ A _vector_ is a _single dimension_ tensor but can contain many numbers"
      ]
    },
    {
      "cell_type": "code",
      "execution_count": null,
      "metadata": {
        "colab": {
          "base_uri": "https://localhost:8080/"
        },
        "id": "Tlj_WcT3EQ-m",
        "outputId": "72ba0544-f1fc-4684-f365-922949239dd9"
      },
      "outputs": [
        {
          "data": {
            "text/plain": [
              "tensor([7, 3, 5])"
            ]
          },
          "execution_count": 35,
          "metadata": {},
          "output_type": "execute_result"
        }
      ],
      "source": [
        "vt = torch.tensor([7, 3, 5])\n",
        "vt"
      ]
    },
    {
      "cell_type": "code",
      "execution_count": null,
      "metadata": {
        "colab": {
          "base_uri": "https://localhost:8080/"
        },
        "id": "kIq5uHbeEbi1",
        "outputId": "636b95e9-7c3f-4623-a219-96c924cb70c5"
      },
      "outputs": [
        {
          "data": {
            "text/plain": [
              "1"
            ]
          },
          "execution_count": 36,
          "metadata": {},
          "output_type": "execute_result"
        }
      ],
      "source": [
        "# get dimensions\n",
        "vt.ndim"
      ]
    },
    {
      "cell_type": "markdown",
      "metadata": {
        "id": "4dG0zk38H4Cm"
      },
      "source": [
        "+ `Tesor.shape` or `Tensor.size()` returns the size of the tensor"
      ]
    },
    {
      "cell_type": "code",
      "execution_count": null,
      "metadata": {
        "colab": {
          "base_uri": "https://localhost:8080/"
        },
        "id": "xtkaksp6H28L",
        "outputId": "370f595a-8b99-418c-adb5-300b81ab0d59"
      },
      "outputs": [
        {
          "data": {
            "text/plain": [
              "torch.Size([3])"
            ]
          },
          "execution_count": 37,
          "metadata": {},
          "output_type": "execute_result"
        }
      ],
      "source": [
        "# shape\n",
        "vt.shape"
      ]
    },
    {
      "cell_type": "markdown",
      "source": [],
      "metadata": {
        "id": "NOz8LPOAB8M6"
      }
    },
    {
      "cell_type": "markdown",
      "metadata": {
        "id": "5-H2VaCXHz4q"
      },
      "source": [
        "### MATRIX\n",
        "+ A _MATRIX_ is a _vector_, but with an extra dimension"
      ]
    },
    {
      "cell_type": "code",
      "execution_count": null,
      "metadata": {
        "colab": {
          "base_uri": "https://localhost:8080/"
        },
        "id": "SXHae3NwLm5-",
        "outputId": "74a62e13-5fbd-4164-afea-9b5c87acde12"
      },
      "outputs": [
        {
          "data": {
            "text/plain": [
              "tensor([[7, 8, 9],\n",
              "        [3, 4, 5]])"
            ]
          },
          "execution_count": 38,
          "metadata": {},
          "output_type": "execute_result"
        }
      ],
      "source": [
        "MATRIX = torch.tensor([[7, 8, 9],\n",
        "                       [3, 4, 5]])\n",
        "\n",
        "MATRIX"
      ]
    },
    {
      "cell_type": "code",
      "execution_count": null,
      "metadata": {
        "colab": {
          "base_uri": "https://localhost:8080/"
        },
        "id": "pkUbA-D9MGY0",
        "outputId": "caa2223c-57d0-459e-9c16-43206ba66a05"
      },
      "outputs": [
        {
          "data": {
            "text/plain": [
              "torch.Size([2, 3])"
            ]
          },
          "execution_count": 39,
          "metadata": {},
          "output_type": "execute_result"
        }
      ],
      "source": [
        "# shape\n",
        "MATRIX.shape"
      ]
    },
    {
      "cell_type": "code",
      "execution_count": null,
      "metadata": {
        "colab": {
          "base_uri": "https://localhost:8080/"
        },
        "id": "powHLBEDMPZi",
        "outputId": "8dc0505c-c2a1-4e95-b1d9-4cbc4bd31e85"
      },
      "outputs": [
        {
          "data": {
            "text/plain": [
              "2"
            ]
          },
          "execution_count": 40,
          "metadata": {},
          "output_type": "execute_result"
        }
      ],
      "source": [
        "# dimensions\n",
        "MATRIX.ndim"
      ]
    },
    {
      "cell_type": "markdown",
      "metadata": {
        "id": "7BYyhZSmALTi"
      },
      "source": [
        "+ The contents of a tensor can be accessed and modified using Python’s indexing"
      ]
    },
    {
      "cell_type": "code",
      "execution_count": null,
      "metadata": {
        "colab": {
          "base_uri": "https://localhost:8080/"
        },
        "id": "8hJmVbaKAIrr",
        "outputId": "600ad4ca-139d-4b94-d86d-13abc842e5be"
      },
      "outputs": [
        {
          "data": {
            "text/plain": [
              "tensor([7, 8, 9])"
            ]
          },
          "execution_count": 41,
          "metadata": {},
          "output_type": "execute_result"
        }
      ],
      "source": [
        "MATRIX[0]"
      ]
    },
    {
      "cell_type": "code",
      "execution_count": null,
      "metadata": {
        "colab": {
          "base_uri": "https://localhost:8080/"
        },
        "id": "4raSNomOAUC8",
        "outputId": "382a4f51-2f9b-4cf2-e5e1-2294945e315e"
      },
      "outputs": [
        {
          "data": {
            "text/plain": [
              "tensor([3, 4, 5])"
            ]
          },
          "execution_count": 42,
          "metadata": {},
          "output_type": "execute_result"
        }
      ],
      "source": [
        "MATRIX[1]"
      ]
    },
    {
      "cell_type": "markdown",
      "metadata": {
        "id": "zcGDOS9DCDXy"
      },
      "source": [
        "### TENSOR\n",
        "+ This is an _n-dimensional_ array of numbers"
      ]
    },
    {
      "cell_type": "code",
      "execution_count": null,
      "metadata": {
        "colab": {
          "background_save": true,
          "base_uri": "https://localhost:8080/",
          "height": 106
        },
        "id": "hS79UYZGCTDs",
        "outputId": "466e874c-b321-44c1-bafc-10be405bd560"
      },
      "outputs": [
        {
          "data": {
            "text/plain": [
              "tensor([[[1, 2],\n",
              "         [3, 6],\n",
              "         [7, 9]],\n",
              "\n",
              "        [[3, 4],\n",
              "         [5, 7],\n",
              "         [6, 8]]])"
            ]
          },
          "execution_count": 59,
          "metadata": {},
          "output_type": "execute_result"
        }
      ],
      "source": [
        "TENSOR = torch.tensor([[[1, 2],\n",
        "                        [3, 6],\n",
        "                        [7, 9]],\n",
        "                        [[[3, 4],\n",
        "                        [5, 7],\n",
        "                        [6, 8]]]])\n",
        "\n",
        "TENSOR"
      ]
    },
    {
      "cell_type": "code",
      "execution_count": null,
      "metadata": {
        "colab": {
          "base_uri": "https://localhost:8080/"
        },
        "id": "wfB58fsdDBui",
        "outputId": "da5f48fd-4717-4246-8dc8-f3c3bafab57d"
      },
      "outputs": [
        {
          "data": {
            "text/plain": [
              "torch.Size([2, 1, 3, 2])"
            ]
          },
          "execution_count": 57,
          "metadata": {},
          "output_type": "execute_result"
        }
      ],
      "source": [
        "# shape\n",
        "TENSOR.shape"
      ]
    },
    {
      "cell_type": "code",
      "execution_count": null,
      "metadata": {
        "colab": {
          "base_uri": "https://localhost:8080/"
        },
        "id": "q_vmCgqfD-sa",
        "outputId": "aebbb68c-8b9b-4d2c-ce0c-c585903118a7"
      },
      "outputs": [
        {
          "data": {
            "text/plain": [
              "3"
            ]
          },
          "execution_count": 48,
          "metadata": {},
          "output_type": "execute_result"
        }
      ],
      "source": [
        "# dimensions\n",
        "TENSOR.ndim"
      ]
    },
    {
      "cell_type": "code",
      "execution_count": null,
      "metadata": {
        "colab": {
          "base_uri": "https://localhost:8080/"
        },
        "id": "hYiwJj_zEUL_",
        "outputId": "2de81c10-9277-42e0-e021-c87fcdf4da7d"
      },
      "outputs": [
        {
          "data": {
            "text/plain": [
              "tensor([[1, 2],\n",
              "        [3, 6],\n",
              "        [7, 9]])"
            ]
          },
          "execution_count": 49,
          "metadata": {},
          "output_type": "execute_result"
        }
      ],
      "source": [
        "# zeroth axis\n",
        "TENSOR[0]"
      ]
    },
    {
      "cell_type": "code",
      "execution_count": null,
      "metadata": {
        "colab": {
          "base_uri": "https://localhost:8080/"
        },
        "id": "TFCg6937Ed3m",
        "outputId": "9b703dc7-20fa-4c35-dd19-a61d3fb69681"
      },
      "outputs": [
        {
          "data": {
            "text/plain": [
              "tensor([[3, 4],\n",
              "        [5, 7],\n",
              "        [6, 8]])"
            ]
          },
          "execution_count": 54,
          "metadata": {},
          "output_type": "execute_result"
        }
      ],
      "source": [
        "# first axis\n",
        "TENSOR[1]"
      ]
    },
    {
      "cell_type": "markdown",
      "source": [
        "> ▶️ **Up Next**  \n",
        "\n",
        "> Random tensors"
      ],
      "metadata": {
        "id": "ffdsTFY0nRII"
      }
    }
  ],
  "metadata": {
    "colab": {
      "toc_visible": true,
      "provenance": [],
      "authorship_tag": "ABX9TyPqQMk/GlGYYwYbUFspZ75+"
    },
    "kernelspec": {
      "display_name": "Python 3",
      "name": "python3"
    },
    "language_info": {
      "name": "python"
    }
  },
  "nbformat": 4,
  "nbformat_minor": 0
}