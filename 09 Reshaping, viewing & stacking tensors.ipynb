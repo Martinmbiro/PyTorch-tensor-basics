{
  "nbformat": 4,
  "nbformat_minor": 0,
  "metadata": {
    "colab": {
      "provenance": [],
      "toc_visible": true,
      "authorship_tag": "ABX9TyNWIOvf0twZhr52jO6R4LtX"
    },
    "kernelspec": {
      "name": "python3",
      "display_name": "Python 3"
    },
    "language_info": {
      "name": "python"
    }
  },
  "cells": [
    {
      "cell_type": "markdown",
      "source": [
        "# **Reshaping, Viewing, Flattening & Stacking Tensors**\n",
        "> Manipulating tensors with operations such as _reshaping_, _squeezing_, _unsqueezing_, _stacking_, _viewing_, _permuting_, and _flattening_ revolves around changing the structure, shape or dimension of the tensors for numerical computation tasks."
      ],
      "metadata": {
        "id": "aQptjJe9gORt"
      }
    },
    {
      "cell_type": "markdown",
      "source": [
        "> 📝 **Note**\n",
        "+ These manipulations do not alter the underlying data\n",
        "+ These methods ensure that the elements of your tensors are compatible with other tensors in terms of numerical computation"
      ],
      "metadata": {
        "id": "mvglZC3fMfSK"
      }
    },
    {
      "cell_type": "code",
      "execution_count": null,
      "metadata": {
        "id": "nqMu_soueljT",
        "colab": {
          "base_uri": "https://localhost:8080/",
          "height": 35
        },
        "outputId": "9db4118c-1b98-40ab-e4f6-f947988ca46a"
      },
      "outputs": [
        {
          "output_type": "execute_result",
          "data": {
            "text/plain": [
              "'2.5.1+cu121'"
            ],
            "application/vnd.google.colaboratory.intrinsic+json": {
              "type": "string"
            }
          },
          "metadata": {},
          "execution_count": 1
        }
      ],
      "source": [
        "# import torch\n",
        "import torch\n",
        "# print version\n",
        "torch.__version__"
      ]
    },
    {
      "cell_type": "markdown",
      "source": [
        "### Reshaping\n",
        "> `torch.reshape(input, shape)` & `Tensor.reshape(*shape)` return a tensor with the same data and number of elements as `input`, but with the specified `shape`  \n",
        "\n",
        "> 📝 **Note**  \n",
        "+ `shape` (tuple of `int`) – the new `shape`\n",
        "+ Ensure that the new `shape` of the tensor produces the same _number_ of elements as the original tensor"
      ],
      "metadata": {
        "id": "LBrRLYF0QCOu"
      }
    },
    {
      "cell_type": "code",
      "source": [
        "# create a tensor\n",
        "a = torch.arange(12)\n",
        "\n",
        "# print tensor and shape\n",
        "print(a)\n",
        "print(a.shape)"
      ],
      "metadata": {
        "colab": {
          "base_uri": "https://localhost:8080/"
        },
        "id": "i4hxrz93STra",
        "outputId": "bb6ef3a3-b996-4202-9d9e-2cb70eb86e26"
      },
      "execution_count": null,
      "outputs": [
        {
          "output_type": "stream",
          "name": "stdout",
          "text": [
            "tensor([ 0,  1,  2,  3,  4,  5,  6,  7,  8,  9, 10, 11])\n",
            "torch.Size([12])\n"
          ]
        }
      ]
    },
    {
      "cell_type": "code",
      "source": [
        "a.reshape(3, 4)"
      ],
      "metadata": {
        "colab": {
          "base_uri": "https://localhost:8080/"
        },
        "id": "WtUp4HfWTWJ0",
        "outputId": "aa807d70-2730-4829-d1a7-d4ab5e3a31f0"
      },
      "execution_count": null,
      "outputs": [
        {
          "output_type": "execute_result",
          "data": {
            "text/plain": [
              "tensor([[ 0,  1,  2,  3],\n",
              "        [ 4,  5,  6,  7],\n",
              "        [ 8,  9, 10, 11]])"
            ]
          },
          "metadata": {},
          "execution_count": 7
        }
      ]
    },
    {
      "cell_type": "code",
      "source": [
        "a.reshape(4, 3)"
      ],
      "metadata": {
        "colab": {
          "base_uri": "https://localhost:8080/"
        },
        "id": "673ollGmTjm7",
        "outputId": "813ec0aa-8b63-481d-ed42-bf96f64308a7"
      },
      "execution_count": null,
      "outputs": [
        {
          "output_type": "execute_result",
          "data": {
            "text/plain": [
              "tensor([[ 0,  1,  2],\n",
              "        [ 3,  4,  5],\n",
              "        [ 6,  7,  8],\n",
              "        [ 9, 10, 11]])"
            ]
          },
          "metadata": {},
          "execution_count": 8
        }
      ]
    },
    {
      "cell_type": "code",
      "source": [
        "a.reshape(-1, 6)"
      ],
      "metadata": {
        "colab": {
          "base_uri": "https://localhost:8080/"
        },
        "id": "_OWNCHVVTnOp",
        "outputId": "1d95a19b-4817-4d79-c0e5-2ab19808cf2d"
      },
      "execution_count": null,
      "outputs": [
        {
          "output_type": "execute_result",
          "data": {
            "text/plain": [
              "tensor([[ 0,  1,  2,  3,  4,  5],\n",
              "        [ 6,  7,  8,  9, 10, 11]])"
            ]
          },
          "metadata": {},
          "execution_count": 9
        }
      ]
    },
    {
      "cell_type": "code",
      "source": [
        "print(a.reshape(1, -1, 6), '\\n')\n",
        "print(a.reshape(1, -1, 6).shape)"
      ],
      "metadata": {
        "colab": {
          "base_uri": "https://localhost:8080/"
        },
        "id": "Z0bsGwQqTtlV",
        "outputId": "b1afdcca-94f0-4f85-b83f-3fb32b5ada73"
      },
      "execution_count": null,
      "outputs": [
        {
          "output_type": "stream",
          "name": "stdout",
          "text": [
            "tensor([[[ 0,  1,  2,  3,  4,  5],\n",
            "         [ 6,  7,  8,  9, 10, 11]]]) \n",
            "\n",
            "torch.Size([1, 2, 6])\n"
          ]
        }
      ]
    },
    {
      "cell_type": "code",
      "source": [
        "print(a.reshape(2, 2, 3), '\\n')\n",
        "print(a.reshape(2, 2, 3).shape)"
      ],
      "metadata": {
        "colab": {
          "base_uri": "https://localhost:8080/"
        },
        "id": "aQ1lE3yJUaFn",
        "outputId": "e943f5aa-ef9d-4c28-ba41-5c8b5c572664"
      },
      "execution_count": null,
      "outputs": [
        {
          "output_type": "stream",
          "name": "stdout",
          "text": [
            "tensor([[[ 0,  1,  2],\n",
            "         [ 3,  4,  5]],\n",
            "\n",
            "        [[ 6,  7,  8],\n",
            "         [ 9, 10, 11]]]) \n",
            "\n",
            "torch.Size([2, 2, 3])\n"
          ]
        }
      ]
    },
    {
      "cell_type": "markdown",
      "source": [
        "### [`torch.Tensor.view`](https://pytorch.org/docs/stable/generated/torch.Tensor.view.html#torch-tensor-view)\n",
        "> Same as `torch.Tensor.reshape()`, `torch.Tensor.view()` is a way of changing the shape of a tensor, but while sharing the same memory and _not_ making copies"
      ],
      "metadata": {
        "id": "TbtMcx9VLVqG"
      }
    },
    {
      "cell_type": "markdown",
      "source": [
        "> 📝 **Note**  \n",
        "+ A **view** is a way of creating a tensor that shares the same data as the original tensor but has a different shape, but does not copy the data; only changing the way the data is interpreted\n",
        "+ A view shares memory with the original data, hence modifying either will be reflected in the other"
      ],
      "metadata": {
        "id": "aiSCRoK2QNyp"
      }
    },
    {
      "cell_type": "code",
      "source": [
        "# create a tensor\n",
        "a = torch.arange(1, 13)\n",
        "print(a.shape)\n",
        "print(a)"
      ],
      "metadata": {
        "colab": {
          "base_uri": "https://localhost:8080/"
        },
        "id": "JW-oCsJHSA7f",
        "outputId": "d369e842-c997-4d28-913f-637025edae45"
      },
      "execution_count": null,
      "outputs": [
        {
          "output_type": "stream",
          "name": "stdout",
          "text": [
            "torch.Size([12])\n",
            "tensor([ 1,  2,  3,  4,  5,  6,  7,  8,  9, 10, 11, 12])\n"
          ]
        }
      ]
    },
    {
      "cell_type": "code",
      "source": [
        "# creating a view of the above tensor\n",
        "b = a.view(2, 2, 3)\n",
        "print(b.shape, '\\n')\n",
        "print(b)"
      ],
      "metadata": {
        "colab": {
          "base_uri": "https://localhost:8080/"
        },
        "id": "zpDhHXUvTXr9",
        "outputId": "f3ffce03-7991-40bd-c2dd-847dff7365f9"
      },
      "execution_count": null,
      "outputs": [
        {
          "output_type": "stream",
          "name": "stdout",
          "text": [
            "torch.Size([2, 2, 3]) \n",
            "\n",
            "tensor([[[ 1,  2,  3],\n",
            "         [ 4,  5,  6]],\n",
            "\n",
            "        [[ 7,  8,  9],\n",
            "         [10, 11, 12]]])\n"
          ]
        }
      ]
    },
    {
      "cell_type": "code",
      "source": [
        "# altering one of the elements\n",
        "b[1, 1, 2] = 99"
      ],
      "metadata": {
        "id": "9ceBkbjnUMXN"
      },
      "execution_count": null,
      "outputs": []
    },
    {
      "cell_type": "code",
      "source": [
        "# printing the original tensor\n",
        "print(a)"
      ],
      "metadata": {
        "colab": {
          "base_uri": "https://localhost:8080/"
        },
        "id": "BuZvsfiPU5L9",
        "outputId": "aa8cbdee-bf4b-4adf-a877-8faa0f040cc1"
      },
      "execution_count": null,
      "outputs": [
        {
          "output_type": "stream",
          "name": "stdout",
          "text": [
            "tensor([ 1,  2,  3,  4,  5,  6,  7,  8,  9, 10, 11, 99])\n"
          ]
        }
      ]
    },
    {
      "cell_type": "markdown",
      "source": [
        "### Flattening\n",
        "[`torch.flatten(input, start_dim=0, end_dim=-1)`](https://pytorch.org/docs/stable/generated/torch.flatten.html#torch.flatten) and [`torch.Tensor.flatten(start_dim=0, end_dim=-1)`](https://pytorch.org/docs/stable/generated/torch.Tensor.flatten.html#torch-tensor-flatten) will flatten `input` by reshaping it into a one-dimensional tensor."
      ],
      "metadata": {
        "id": "MirV9B3FKZ5s"
      }
    },
    {
      "cell_type": "code",
      "source": [
        "# create a tensor\n",
        "a = torch.arange(12).reshape(3, 2, 2)\n",
        "print(a)"
      ],
      "metadata": {
        "colab": {
          "base_uri": "https://localhost:8080/"
        },
        "id": "6VtcxBCeKqTo",
        "outputId": "99a5a0cf-11a0-422d-ff2d-e6238315a148"
      },
      "execution_count": null,
      "outputs": [
        {
          "output_type": "stream",
          "name": "stdout",
          "text": [
            "tensor([[[ 0,  1],\n",
            "         [ 2,  3]],\n",
            "\n",
            "        [[ 4,  5],\n",
            "         [ 6,  7]],\n",
            "\n",
            "        [[ 8,  9],\n",
            "         [10, 11]]])\n"
          ]
        }
      ]
    },
    {
      "cell_type": "code",
      "source": [
        "a.flatten()"
      ],
      "metadata": {
        "colab": {
          "base_uri": "https://localhost:8080/"
        },
        "id": "LfmW_BHfK8_I",
        "outputId": "82d0ddd9-7985-4e23-d935-3e8f732a71e5"
      },
      "execution_count": null,
      "outputs": [
        {
          "output_type": "execute_result",
          "data": {
            "text/plain": [
              "tensor([ 0,  1,  2,  3,  4,  5,  6,  7,  8,  9, 10, 11])"
            ]
          },
          "metadata": {},
          "execution_count": 46
        }
      ]
    },
    {
      "cell_type": "code",
      "source": [
        "a.flatten(1)"
      ],
      "metadata": {
        "colab": {
          "base_uri": "https://localhost:8080/"
        },
        "id": "gR5oJ1vWLBjG",
        "outputId": "8c0948db-3df1-45d1-ae91-53a475094be5"
      },
      "execution_count": null,
      "outputs": [
        {
          "output_type": "execute_result",
          "data": {
            "text/plain": [
              "tensor([[ 0,  1,  2,  3],\n",
              "        [ 4,  5,  6,  7],\n",
              "        [ 8,  9, 10, 11]])"
            ]
          },
          "metadata": {},
          "execution_count": 52
        }
      ]
    },
    {
      "cell_type": "markdown",
      "source": [
        "### Squeezing\n",
        "> `Tensor.squeeze(dim=None)` & [`torch.squeeze(input, dim=None)`](https://pytorch.org/docs/stable/generated/torch.squeeze.html#torch-squeeze) return a tensor with all specified dimensions of `input` of size `1` removed\n",
        "+ When `dim` is given, a squeeze operation is done only in the given dimension(s)"
      ],
      "metadata": {
        "id": "Y-IADTCfKlZt"
      }
    },
    {
      "cell_type": "code",
      "source": [
        "# create a tensor\n",
        "a = torch.zeros(1, 3, 1)\n",
        "a"
      ],
      "metadata": {
        "colab": {
          "base_uri": "https://localhost:8080/"
        },
        "id": "NyhcHYMmLm7A",
        "outputId": "c66a6844-3254-4865-db1d-e2a3db706203"
      },
      "execution_count": null,
      "outputs": [
        {
          "output_type": "execute_result",
          "data": {
            "text/plain": [
              "tensor([[[0.],\n",
              "         [0.],\n",
              "         [0.]]])"
            ]
          },
          "metadata": {},
          "execution_count": 53
        }
      ]
    },
    {
      "cell_type": "code",
      "source": [
        "print(a.squeeze())\n",
        "print(a.squeeze().shape)"
      ],
      "metadata": {
        "colab": {
          "base_uri": "https://localhost:8080/"
        },
        "id": "JEydXlUML3KA",
        "outputId": "5fda9ae0-cad2-4ac6-ef04-c9322de74495"
      },
      "execution_count": null,
      "outputs": [
        {
          "output_type": "stream",
          "name": "stdout",
          "text": [
            "tensor([0., 0., 0.])\n",
            "torch.Size([3])\n"
          ]
        }
      ]
    },
    {
      "cell_type": "code",
      "source": [
        "# specifying a particular dimension\n",
        "a.squeeze(2).shape"
      ],
      "metadata": {
        "colab": {
          "base_uri": "https://localhost:8080/"
        },
        "id": "acizi4_RMWrC",
        "outputId": "c4454f09-a094-4bc5-ca85-1661b97a71e6"
      },
      "execution_count": null,
      "outputs": [
        {
          "output_type": "execute_result",
          "data": {
            "text/plain": [
              "torch.Size([1, 3])"
            ]
          },
          "metadata": {},
          "execution_count": 61
        }
      ]
    },
    {
      "cell_type": "markdown",
      "source": [
        "### Unsqueezing\n",
        "> [`torch.unsqueeze(input, dim)`](https://pytorch.org/docs/stable/generated/torch.unsqueeze.html#torch.unsqueeze) & `Tensor.unsqueeze(dim)` returns a new tensor with a dimension of size `1` inserted at the specified position"
      ],
      "metadata": {
        "id": "z4Cdi277KoRZ"
      }
    },
    {
      "cell_type": "code",
      "source": [
        "# create a tensor\n",
        "a = torch.arange(4)\n",
        "print(a.shape)\n",
        "print(a)"
      ],
      "metadata": {
        "colab": {
          "base_uri": "https://localhost:8080/"
        },
        "id": "cp72RZ8bN-8I",
        "outputId": "9d8b91ad-eec9-4218-d276-2ffee9409ca7"
      },
      "execution_count": null,
      "outputs": [
        {
          "output_type": "stream",
          "name": "stdout",
          "text": [
            "torch.Size([4])\n",
            "tensor([0, 1, 2, 3])\n"
          ]
        }
      ]
    },
    {
      "cell_type": "code",
      "source": [
        "# add a dimension at position 0\n",
        "a.unsqueeze(0).shape"
      ],
      "metadata": {
        "colab": {
          "base_uri": "https://localhost:8080/"
        },
        "id": "kIDFK3vbOEr-",
        "outputId": "63dd4d99-f16b-4983-f45f-838ff1248011"
      },
      "execution_count": null,
      "outputs": [
        {
          "output_type": "execute_result",
          "data": {
            "text/plain": [
              "torch.Size([1, 4])"
            ]
          },
          "metadata": {},
          "execution_count": 65
        }
      ]
    },
    {
      "cell_type": "code",
      "source": [
        "# add a dimension at position 1\n",
        "a.unsqueeze(1).shape\n",
        "print(a.unsqueeze(1))"
      ],
      "metadata": {
        "colab": {
          "base_uri": "https://localhost:8080/"
        },
        "id": "On3h5VQ9OVmw",
        "outputId": "d5e06c4c-abd9-42d3-d35b-cc063c7d90f6"
      },
      "execution_count": null,
      "outputs": [
        {
          "output_type": "stream",
          "name": "stdout",
          "text": [
            "tensor([[0],\n",
            "        [1],\n",
            "        [2],\n",
            "        [3]])\n"
          ]
        }
      ]
    },
    {
      "cell_type": "markdown",
      "source": [
        "### Stacking"
      ],
      "metadata": {
        "id": "4wxY99jQLcpH"
      }
    },
    {
      "cell_type": "markdown",
      "source": [
        "#### [`torch.stack(tensors, dim=0, *, out=None)`](https://pytorch.org/docs/stable/generated/torch.stack.html#torch-stack)\n",
        "> Concatenates a set of tensors along a **new** dimension\n",
        "+ All tensors need to be of the same size"
      ],
      "metadata": {
        "id": "wWKn-WBhJRTo"
      }
    },
    {
      "cell_type": "code",
      "source": [
        "# create a random tensor\n",
        "a = torch.rand(2, 3)\n",
        "a"
      ],
      "metadata": {
        "colab": {
          "base_uri": "https://localhost:8080/"
        },
        "id": "i6LOWWUjyARX",
        "outputId": "d1f2288d-ca7a-4bbd-8fd8-45542e34d886"
      },
      "execution_count": null,
      "outputs": [
        {
          "output_type": "execute_result",
          "data": {
            "text/plain": [
              "tensor([[0.9024, 0.4322, 0.4606],\n",
              "        [0.7702, 0.3520, 0.9231]])"
            ]
          },
          "metadata": {},
          "execution_count": 3
        }
      ]
    },
    {
      "cell_type": "code",
      "source": [
        "# stack along dimension 0\n",
        "print(torch.stack((a, a), dim=0))\n",
        "print('\\n', torch.stack((a, a), dim=0).shape)"
      ],
      "metadata": {
        "colab": {
          "base_uri": "https://localhost:8080/"
        },
        "id": "PmVAbsJaySGY",
        "outputId": "8be150c2-de12-4900-cd40-98c2af19a784"
      },
      "execution_count": null,
      "outputs": [
        {
          "output_type": "stream",
          "name": "stdout",
          "text": [
            "tensor([[[0.9024, 0.4322, 0.4606],\n",
            "         [0.7702, 0.3520, 0.9231]],\n",
            "\n",
            "        [[0.9024, 0.4322, 0.4606],\n",
            "         [0.7702, 0.3520, 0.9231]]])\n",
            "\n",
            " torch.Size([2, 2, 3])\n"
          ]
        }
      ]
    },
    {
      "cell_type": "code",
      "source": [
        "# stack along dimension 1\n",
        "print(torch.stack((a, a), dim=1))\n",
        "print('\\n', torch.stack((a, a), dim=1).shape)"
      ],
      "metadata": {
        "colab": {
          "base_uri": "https://localhost:8080/"
        },
        "id": "g7PEjpIlyzdE",
        "outputId": "c3dfe8e5-387a-4047-9380-dd0f20b08604"
      },
      "execution_count": null,
      "outputs": [
        {
          "output_type": "stream",
          "name": "stdout",
          "text": [
            "tensor([[[0.9024, 0.4322, 0.4606],\n",
            "         [0.9024, 0.4322, 0.4606]],\n",
            "\n",
            "        [[0.7702, 0.3520, 0.9231],\n",
            "         [0.7702, 0.3520, 0.9231]]])\n",
            "\n",
            " torch.Size([2, 2, 3])\n"
          ]
        }
      ]
    },
    {
      "cell_type": "code",
      "source": [
        "# stack along dimension 2\n",
        "print(torch.stack((a, a), dim=2))\n",
        "print('\\n', torch.stack((a, a), dim=2).shape)"
      ],
      "metadata": {
        "colab": {
          "base_uri": "https://localhost:8080/"
        },
        "id": "4s-Nxu9rzTET",
        "outputId": "150ff99d-2d0e-4213-a41c-d2375b8708fd"
      },
      "execution_count": null,
      "outputs": [
        {
          "output_type": "stream",
          "name": "stdout",
          "text": [
            "tensor([[[0.9024, 0.9024],\n",
            "         [0.4322, 0.4322],\n",
            "         [0.4606, 0.4606]],\n",
            "\n",
            "        [[0.7702, 0.7702],\n",
            "         [0.3520, 0.3520],\n",
            "         [0.9231, 0.9231]]])\n",
            "\n",
            " torch.Size([2, 3, 2])\n"
          ]
        }
      ]
    },
    {
      "cell_type": "markdown",
      "source": [
        "#### [`torch.cat(tensors, dim=0, *, out=None)`](https://pytorch.org/docs/stable/generated/torch.cat.html#torch-cat)\n",
        "> Concatenates a set of tensors along an **existing** dimension"
      ],
      "metadata": {
        "id": "qoIzyByiJgtQ"
      }
    },
    {
      "cell_type": "code",
      "source": [
        "# create a new tensor\n",
        "a = torch.rand(2, 3)\n",
        "b = torch.rand(2, 3)\n",
        "print(a, '\\n\\n', b)"
      ],
      "metadata": {
        "colab": {
          "base_uri": "https://localhost:8080/"
        },
        "id": "ft78Fo9CLk2s",
        "outputId": "38e0ffec-1c53-40f6-c015-5b48277ee54a"
      },
      "execution_count": null,
      "outputs": [
        {
          "output_type": "stream",
          "name": "stdout",
          "text": [
            "tensor([[0.5780, 0.6131, 0.1284],\n",
            "        [0.8147, 0.2230, 0.6966]]) \n",
            "\n",
            " tensor([[0.4935, 0.1515, 0.3375],\n",
            "        [0.0354, 0.6335, 0.5362]])\n"
          ]
        }
      ]
    },
    {
      "cell_type": "code",
      "source": [
        "# concatenate along dim 0\n",
        "print(torch.cat((a, b), dim=0))\n",
        "print(torch.cat((a, b), dim=0).shape)"
      ],
      "metadata": {
        "colab": {
          "base_uri": "https://localhost:8080/"
        },
        "id": "b3M4qzdAL4nm",
        "outputId": "ff874d6a-0014-4967-d81f-6ab95446de46"
      },
      "execution_count": null,
      "outputs": [
        {
          "output_type": "stream",
          "name": "stdout",
          "text": [
            "tensor([[0.5780, 0.6131, 0.1284],\n",
            "        [0.8147, 0.2230, 0.6966],\n",
            "        [0.4935, 0.1515, 0.3375],\n",
            "        [0.0354, 0.6335, 0.5362]])\n",
            "torch.Size([4, 3])\n"
          ]
        }
      ]
    },
    {
      "cell_type": "code",
      "source": [
        "# concatenate along dim 1\n",
        "print(torch.cat((a, b), dim=1))\n",
        "print(torch.cat((a, b), dim=1).shape)"
      ],
      "metadata": {
        "colab": {
          "base_uri": "https://localhost:8080/"
        },
        "id": "vUQMZCEeMOlk",
        "outputId": "20da0557-8add-469f-cc29-51223f18686d"
      },
      "execution_count": null,
      "outputs": [
        {
          "output_type": "stream",
          "name": "stdout",
          "text": [
            "tensor([[0.5780, 0.6131, 0.1284, 0.4935, 0.1515, 0.3375],\n",
            "        [0.8147, 0.2230, 0.6966, 0.0354, 0.6335, 0.5362]])\n",
            "torch.Size([2, 6])\n"
          ]
        }
      ]
    },
    {
      "cell_type": "markdown",
      "source": [
        "### Permute\n",
        "> [`torch.permute(input, dims)`](https://pytorch.org/docs/stable/generated/torch.permute.html#torch-permute) and [`Tensor.permute(*dims)`](https://pytorch.org/docs/stable/generated/torch.Tensor.permute.html#torch-tensor-permute) return a _view_ of the original tensor `input` with its dimensions permuted / rearranged\n",
        "+ `input` (Tensor) – the input tensor.\n",
        "+ `dims` (tuple of int) – The desired ordering of dimensions"
      ],
      "metadata": {
        "id": "aL6JXx98kiyJ"
      }
    },
    {
      "cell_type": "code",
      "source": [
        "# random tensor\n",
        "#         index 0, 1, 2\n",
        "x = torch.randn(1, 3, 2)\n",
        "x"
      ],
      "metadata": {
        "colab": {
          "base_uri": "https://localhost:8080/"
        },
        "id": "T4daSbyRiWdz",
        "outputId": "8e452aee-caad-4b3a-899f-a99e0cf8f8cd"
      },
      "execution_count": null,
      "outputs": [
        {
          "output_type": "execute_result",
          "data": {
            "text/plain": [
              "tensor([[[ 2.5500,  1.1350],\n",
              "         [-0.8323, -2.0097],\n",
              "         [ 0.4560, -0.8896]]])"
            ]
          },
          "metadata": {},
          "execution_count": 2
        }
      ]
    },
    {
      "cell_type": "code",
      "source": [
        "# re-order the original dimensions\n",
        "x.permute(1, 2, 0)"
      ],
      "metadata": {
        "colab": {
          "base_uri": "https://localhost:8080/"
        },
        "id": "CCybYIIGiy6Z",
        "outputId": "a5a5da1a-d908-4565-c683-c171e1a3d8cd"
      },
      "execution_count": null,
      "outputs": [
        {
          "output_type": "execute_result",
          "data": {
            "text/plain": [
              "tensor([[[ 2.5500],\n",
              "         [ 1.1350]],\n",
              "\n",
              "        [[-0.8323],\n",
              "         [-2.0097]],\n",
              "\n",
              "        [[ 0.4560],\n",
              "         [-0.8896]]])"
            ]
          },
          "metadata": {},
          "execution_count": 3
        }
      ]
    },
    {
      "cell_type": "code",
      "source": [
        "# check shape\n",
        "x.permute(1, 2, 0).shape"
      ],
      "metadata": {
        "colab": {
          "base_uri": "https://localhost:8080/"
        },
        "id": "7Lo9hQXxjHgl",
        "outputId": "9fef6376-b9cd-4933-d1d1-c329ddcd06bf"
      },
      "execution_count": null,
      "outputs": [
        {
          "output_type": "execute_result",
          "data": {
            "text/plain": [
              "torch.Size([3, 2, 1])"
            ]
          },
          "metadata": {},
          "execution_count": 4
        }
      ]
    },
    {
      "cell_type": "markdown",
      "source": [
        "> ▶️ **Up Next**  \n",
        "\n",
        "> Tensor indexing\n"
      ],
      "metadata": {
        "id": "fJhkh-Hdi4H5"
      }
    }
  ]
}