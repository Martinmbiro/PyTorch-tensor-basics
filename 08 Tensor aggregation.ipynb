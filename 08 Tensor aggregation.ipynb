{
  "nbformat": 4,
  "nbformat_minor": 0,
  "metadata": {
    "colab": {
      "provenance": [],
      "toc_visible": true,
      "authorship_tag": "ABX9TyPdo/djJhgcgYFLKtYInjT2",
      "include_colab_link": true
    },
    "kernelspec": {
      "name": "python3",
      "display_name": "Python 3"
    },
    "language_info": {
      "name": "python"
    }
  },
  "cells": [
    {
      "cell_type": "markdown",
      "metadata": {
        "id": "view-in-github",
        "colab_type": "text"
      },
      "source": [
        "<a href=\"https://colab.research.google.com/github/Martinmbiro/PyTorch-tensor-basics/blob/main/08%20Tensor%20aggregation.ipynb\" target=\"_parent\"><img src=\"https://colab.research.google.com/assets/colab-badge.svg\" alt=\"Open In Colab\"/></a>"
      ]
    },
    {
      "cell_type": "markdown",
      "source": [
        "# **Tensor Aggregation**\n",
        "> This refers to combining / summarizing data from a single tensor or multiple tensors, and reducing that into a single statistic\n",
        "\n",
        "> Aggregation operations are useful for extracting meaningful operations such as averages, sums, max, min values, e.t.c and are part of [`reduction operations`](https://pytorch.org/docs/stable/torch.html#reduction-ops)"
      ],
      "metadata": {
        "id": "psqbw4MGaoQi"
      }
    },
    {
      "cell_type": "code",
      "execution_count": null,
      "metadata": {
        "id": "MEmNyduFYdKI",
        "colab": {
          "base_uri": "https://localhost:8080/",
          "height": 35
        },
        "outputId": "e7710728-e39d-4daa-a3a2-44b0ed624ff2"
      },
      "outputs": [
        {
          "output_type": "execute_result",
          "data": {
            "text/plain": [
              "'2.5.1+cu121'"
            ],
            "application/vnd.google.colaboratory.intrinsic+json": {
              "type": "string"
            }
          },
          "metadata": {},
          "execution_count": 1
        }
      ],
      "source": [
        "# import torch\n",
        "import torch\n",
        "# print current torch version\n",
        "torch.__version__"
      ]
    },
    {
      "cell_type": "code",
      "source": [
        "# create a tensor\n",
        "t = torch.arange(1, 31, 2)\n",
        "print(t)\n",
        "print(t.size())"
      ],
      "metadata": {
        "colab": {
          "base_uri": "https://localhost:8080/"
        },
        "id": "yllzfZyFcPmK",
        "outputId": "315d45c4-43b4-46f5-caac-6275d093c161"
      },
      "execution_count": null,
      "outputs": [
        {
          "output_type": "stream",
          "name": "stdout",
          "text": [
            "tensor([ 1,  3,  5,  7,  9, 11, 13, 15, 17, 19, 21, 23, 25, 27, 29])\n",
            "torch.Size([15])\n"
          ]
        }
      ]
    },
    {
      "cell_type": "markdown",
      "source": [
        "### max\n",
        "> [`Tensor.max()`](https://pytorch.org/docs/stable/generated/torch.Tensor.max.html#torch.Tensor.max) and [`torch.max(input)`](https://pytorch.org/docs/stable/generated/torch.max.html#torch-max) will return the maximum value of all elements in the `input` tensor"
      ],
      "metadata": {
        "id": "jAE9vCGRcdR2"
      }
    },
    {
      "cell_type": "code",
      "source": [
        "t.max(), torch.max(t)"
      ],
      "metadata": {
        "colab": {
          "base_uri": "https://localhost:8080/"
        },
        "id": "MzRHC1W_dXph",
        "outputId": "a1379853-75ad-42d4-ea20-6c5d3b9f05cc"
      },
      "execution_count": null,
      "outputs": [
        {
          "output_type": "execute_result",
          "data": {
            "text/plain": [
              "(tensor(29), tensor(29))"
            ]
          },
          "metadata": {},
          "execution_count": 3
        }
      ]
    },
    {
      "cell_type": "markdown",
      "source": [
        "### argmax\n",
        "> [`Tensor.argmax()`](https://pytorch.org/docs/stable/generated/torch.Tensor.argmax.html#torch-tensor-argmax) and [`torch.argmax(input)`](https://pytorch.org/docs/stable/generated/torch.argmax.html#torch-argmax) will return the indices of the maximum value of all elements in the `input` tensor"
      ],
      "metadata": {
        "id": "1Lb2CAhqdoKZ"
      }
    },
    {
      "cell_type": "code",
      "source": [
        "t.argmax(), torch.argmax(t)"
      ],
      "metadata": {
        "colab": {
          "base_uri": "https://localhost:8080/"
        },
        "id": "yh_MlPatdrBi",
        "outputId": "570633f9-c2d4-4dbd-f3ae-3c21dca8853c"
      },
      "execution_count": null,
      "outputs": [
        {
          "output_type": "execute_result",
          "data": {
            "text/plain": [
              "(tensor(14), tensor(14))"
            ]
          },
          "metadata": {},
          "execution_count": 4
        }
      ]
    },
    {
      "cell_type": "markdown",
      "source": [
        "### mim\n",
        "> `Tensor.mim()` and `torch.min(input)` will return the minimum value of all elements in the `input` tensor"
      ],
      "metadata": {
        "id": "B9IATO9Werb1"
      }
    },
    {
      "cell_type": "code",
      "source": [
        "t.min(), torch.min(t)"
      ],
      "metadata": {
        "colab": {
          "base_uri": "https://localhost:8080/"
        },
        "id": "kNL-Gz59fHRG",
        "outputId": "46f743d1-9d6b-4f10-d23e-782e63aa912f"
      },
      "execution_count": null,
      "outputs": [
        {
          "output_type": "execute_result",
          "data": {
            "text/plain": [
              "(tensor(1), tensor(1))"
            ]
          },
          "metadata": {},
          "execution_count": 8
        }
      ]
    },
    {
      "cell_type": "markdown",
      "source": [
        "### argmin\n",
        "> `Tensor.argmin()` and `torch.argmin(input)` will return the indices of the minimum value(s) of the flattened tensor or along a dimension"
      ],
      "metadata": {
        "id": "qWLZjpe-fR1u"
      }
    },
    {
      "cell_type": "code",
      "source": [
        "t.argmin(), torch.argmin(t)"
      ],
      "metadata": {
        "colab": {
          "base_uri": "https://localhost:8080/"
        },
        "id": "hviwa-K9fKsj",
        "outputId": "92b5e5d9-b484-4cdf-fd0f-3a25433c5eff"
      },
      "execution_count": null,
      "outputs": [
        {
          "output_type": "execute_result",
          "data": {
            "text/plain": [
              "(tensor(0), tensor(0))"
            ]
          },
          "metadata": {},
          "execution_count": 9
        }
      ]
    },
    {
      "cell_type": "markdown",
      "source": [
        "### sum\n",
        "> `Tensor.sum()` and `torch.sum(input)` will return the sum of all elements in the `input` tensor"
      ],
      "metadata": {
        "id": "K2uLZ_t-XJGF"
      }
    },
    {
      "cell_type": "code",
      "source": [
        "t.sum(), torch.sum(t)"
      ],
      "metadata": {
        "colab": {
          "base_uri": "https://localhost:8080/"
        },
        "id": "WFEBkobWXgu6",
        "outputId": "fc31a560-54a2-43a6-c060-8933a68dfff5"
      },
      "execution_count": null,
      "outputs": [
        {
          "output_type": "execute_result",
          "data": {
            "text/plain": [
              "(tensor(225), tensor(225))"
            ]
          },
          "metadata": {},
          "execution_count": 20
        }
      ]
    },
    {
      "cell_type": "markdown",
      "source": [
        "### median\n",
        "> `Tensor.median()` and `torch.median(input)` will return the median of the values in `input`"
      ],
      "metadata": {
        "id": "f4aJZ6smXwYK"
      }
    },
    {
      "cell_type": "code",
      "source": [
        "t.median(), torch.median(t)"
      ],
      "metadata": {
        "colab": {
          "base_uri": "https://localhost:8080/"
        },
        "id": "79ZiXY_FX7l2",
        "outputId": "c1f83333-004b-4658-8259-0697dbd27614"
      },
      "execution_count": null,
      "outputs": [
        {
          "output_type": "execute_result",
          "data": {
            "text/plain": [
              "(tensor(15), tensor(15))"
            ]
          },
          "metadata": {},
          "execution_count": 21
        }
      ]
    },
    {
      "cell_type": "markdown",
      "source": [
        "### mean\n",
        "> [`Tensor.mean()`](https://pytorch.org/docs/stable/generated/torch.Tensor.mean.html#torch-tensor-mean) and [`torch.mean(input)`](https://pytorch.org/docs/stable/generated/torch.mean.html#torch-mean) will return the mean value of all elements in the `input` tensor\n",
        "\n",
        "> 📝 **Note**   \n",
        "+ Input must be floating point or complex."
      ],
      "metadata": {
        "id": "LQNS4sjfYND8"
      }
    },
    {
      "cell_type": "code",
      "source": [
        "# check dtype of the tensor t\n",
        "t.dtype"
      ],
      "metadata": {
        "colab": {
          "base_uri": "https://localhost:8080/"
        },
        "id": "sw0jhrEtZAQ8",
        "outputId": "fd3b35ce-493d-412c-f535-d7d17d535a45"
      },
      "execution_count": null,
      "outputs": [
        {
          "output_type": "execute_result",
          "data": {
            "text/plain": [
              "torch.int64"
            ]
          },
          "metadata": {},
          "execution_count": 22
        }
      ]
    },
    {
      "cell_type": "code",
      "source": [
        "# returning mean\n",
        "t.type(torch.float32).mean(), torch.mean(t.type(torch.float32))"
      ],
      "metadata": {
        "colab": {
          "base_uri": "https://localhost:8080/"
        },
        "id": "gvHX2bqQZGKU",
        "outputId": "e2049113-654f-4619-8770-7847305ba179"
      },
      "execution_count": null,
      "outputs": [
        {
          "output_type": "execute_result",
          "data": {
            "text/plain": [
              "(tensor(15.), tensor(15.))"
            ]
          },
          "metadata": {},
          "execution_count": 24
        }
      ]
    },
    {
      "cell_type": "markdown",
      "source": [
        "> ▶️ **Up Next**  \n",
        "\n",
        ">Reshaping, Viewing, Flattening & Stacking Tensors"
      ],
      "metadata": {
        "id": "lgyyAGbjjdhn"
      }
    }
  ]
}