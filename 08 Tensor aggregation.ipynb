{
  "nbformat": 4,
  "nbformat_minor": 0,
  "metadata": {
    "colab": {
      "provenance": [],
      "toc_visible": true,
      "authorship_tag": "ABX9TyNhQQ6TiXM6bz0JC75lqI3h",
      "include_colab_link": true
    },
    "kernelspec": {
      "name": "python3",
      "display_name": "Python 3"
    },
    "language_info": {
      "name": "python"
    }
  },
  "cells": [
    {
      "cell_type": "markdown",
      "metadata": {
        "id": "view-in-github",
        "colab_type": "text"
      },
      "source": [
        "<a href=\"https://colab.research.google.com/github/Martinmbiro/PyTorch-tensor-basics/blob/main/08%20Tensor%20aggregation.ipynb\" target=\"_parent\"><img src=\"https://colab.research.google.com/assets/colab-badge.svg\" alt=\"Open In Colab\"/></a>"
      ]
    },
    {
      "cell_type": "markdown",
      "source": [
        "# **Tensor Aggregation**\n",
        "> This refers to combining / summarizing data from a single tensor or multiple tensors, and reducing that into a single statistic\n",
        "\n",
        "> Aggregation operations are useful for extracting meaningful operations such as averages, sums, max, min values, e.t.c and are part of [`reduction operations`](https://pytorch.org/docs/stable/torch.html#reduction-ops)"
      ],
      "metadata": {
        "id": "psqbw4MGaoQi"
      }
    },
    {
      "cell_type": "code",
      "execution_count": 2,
      "metadata": {
        "id": "MEmNyduFYdKI",
        "colab": {
          "base_uri": "https://localhost:8080/",
          "height": 35
        },
        "outputId": "e8b0d743-1ec1-49ee-d72e-3e1e257dc6f4"
      },
      "outputs": [
        {
          "output_type": "execute_result",
          "data": {
            "text/plain": [
              "'2.5.1+cu121'"
            ],
            "application/vnd.google.colaboratory.intrinsic+json": {
              "type": "string"
            }
          },
          "metadata": {},
          "execution_count": 2
        }
      ],
      "source": [
        "# import torch\n",
        "import torch\n",
        "# print current torch version\n",
        "torch.__version__"
      ]
    },
    {
      "cell_type": "code",
      "source": [
        "# create a tensor\n",
        "t = torch.arange(1, 31, 2)\n",
        "print(t)\n",
        "print(t.size())"
      ],
      "metadata": {
        "colab": {
          "base_uri": "https://localhost:8080/"
        },
        "id": "yllzfZyFcPmK",
        "outputId": "1569edb7-423a-4137-d48f-3efb8679752b"
      },
      "execution_count": 3,
      "outputs": [
        {
          "output_type": "stream",
          "name": "stdout",
          "text": [
            "tensor([ 1,  3,  5,  7,  9, 11, 13, 15, 17, 19, 21, 23, 25, 27, 29])\n",
            "torch.Size([15])\n"
          ]
        }
      ]
    },
    {
      "cell_type": "markdown",
      "source": [
        "### max\n",
        "> [`Tensor.max()`](https://pytorch.org/docs/stable/generated/torch.Tensor.max.html#torch.Tensor.max) and [`torch.max(input)`](https://pytorch.org/docs/stable/generated/torch.max.html#torch-max) will return the maximum value of all elements in the `input` tensor"
      ],
      "metadata": {
        "id": "jAE9vCGRcdR2"
      }
    },
    {
      "cell_type": "code",
      "source": [
        "t.max(), torch.max(t)"
      ],
      "metadata": {
        "colab": {
          "base_uri": "https://localhost:8080/"
        },
        "id": "MzRHC1W_dXph",
        "outputId": "79fa6b28-db46-4d6f-d364-093c6b183797"
      },
      "execution_count": 4,
      "outputs": [
        {
          "output_type": "execute_result",
          "data": {
            "text/plain": [
              "(tensor(29), tensor(29))"
            ]
          },
          "metadata": {},
          "execution_count": 4
        }
      ]
    },
    {
      "cell_type": "markdown",
      "source": [
        "### argmax\n",
        "> [`Tensor.argmax()`](https://pytorch.org/docs/stable/generated/torch.Tensor.argmax.html#torch-tensor-argmax) and [`torch.argmax(input)`](https://pytorch.org/docs/stable/generated/torch.argmax.html#torch-argmax) will return the indices of the maximum value of all elements in the `input` tensor"
      ],
      "metadata": {
        "id": "1Lb2CAhqdoKZ"
      }
    },
    {
      "cell_type": "code",
      "source": [
        "t.argmax(), torch.argmax(t)"
      ],
      "metadata": {
        "colab": {
          "base_uri": "https://localhost:8080/"
        },
        "id": "yh_MlPatdrBi",
        "outputId": "10ba3ef0-efc6-4d72-cc5d-52ea7b8b29e8"
      },
      "execution_count": 5,
      "outputs": [
        {
          "output_type": "execute_result",
          "data": {
            "text/plain": [
              "(tensor(14), tensor(14))"
            ]
          },
          "metadata": {},
          "execution_count": 5
        }
      ]
    },
    {
      "cell_type": "markdown",
      "source": [
        "### mim\n",
        "> `Tensor.mim()` and `torch.min(input)` will return the minimum value of all elements in the `input` tensor"
      ],
      "metadata": {
        "id": "B9IATO9Werb1"
      }
    },
    {
      "cell_type": "code",
      "source": [
        "t.min(), torch.min(t)"
      ],
      "metadata": {
        "colab": {
          "base_uri": "https://localhost:8080/"
        },
        "id": "kNL-Gz59fHRG",
        "outputId": "e67c8e66-1719-4d70-fc57-d0ec5d67eda4"
      },
      "execution_count": 6,
      "outputs": [
        {
          "output_type": "execute_result",
          "data": {
            "text/plain": [
              "(tensor(1), tensor(1))"
            ]
          },
          "metadata": {},
          "execution_count": 6
        }
      ]
    },
    {
      "cell_type": "markdown",
      "source": [
        "### argmin\n",
        "> `Tensor.argmin()` and `torch.argmin(input)` will return the indices of the minimum value(s) of the flattened tensor or along a dimension"
      ],
      "metadata": {
        "id": "qWLZjpe-fR1u"
      }
    },
    {
      "cell_type": "code",
      "source": [
        "t.argmin(), torch.argmin(t)"
      ],
      "metadata": {
        "colab": {
          "base_uri": "https://localhost:8080/"
        },
        "id": "hviwa-K9fKsj",
        "outputId": "3f6021eb-2f63-46cb-dc58-58e5c1fbd282"
      },
      "execution_count": 7,
      "outputs": [
        {
          "output_type": "execute_result",
          "data": {
            "text/plain": [
              "(tensor(0), tensor(0))"
            ]
          },
          "metadata": {},
          "execution_count": 7
        }
      ]
    },
    {
      "cell_type": "markdown",
      "source": [
        "### sum\n",
        "> `Tensor.sum()` and `torch.sum(input)` will return the sum of all elements in the `input` tensor"
      ],
      "metadata": {
        "id": "K2uLZ_t-XJGF"
      }
    },
    {
      "cell_type": "code",
      "source": [
        "t.sum(), torch.sum(t)"
      ],
      "metadata": {
        "colab": {
          "base_uri": "https://localhost:8080/"
        },
        "id": "WFEBkobWXgu6",
        "outputId": "a2f95454-71ae-48aa-a1d6-b318afe60688"
      },
      "execution_count": 8,
      "outputs": [
        {
          "output_type": "execute_result",
          "data": {
            "text/plain": [
              "(tensor(225), tensor(225))"
            ]
          },
          "metadata": {},
          "execution_count": 8
        }
      ]
    },
    {
      "cell_type": "markdown",
      "source": [
        "### median\n",
        "> `Tensor.median()` and `torch.median(input)` will return the median of the values in `input`"
      ],
      "metadata": {
        "id": "f4aJZ6smXwYK"
      }
    },
    {
      "cell_type": "code",
      "source": [
        "t.median(), torch.median(t)"
      ],
      "metadata": {
        "colab": {
          "base_uri": "https://localhost:8080/"
        },
        "id": "79ZiXY_FX7l2",
        "outputId": "caef6b68-a1ec-4009-ee86-f47b5cf41a36"
      },
      "execution_count": 9,
      "outputs": [
        {
          "output_type": "execute_result",
          "data": {
            "text/plain": [
              "(tensor(15), tensor(15))"
            ]
          },
          "metadata": {},
          "execution_count": 9
        }
      ]
    },
    {
      "cell_type": "markdown",
      "source": [
        "### mean\n",
        "> [`Tensor.mean()`](https://pytorch.org/docs/stable/generated/torch.Tensor.mean.html#torch-tensor-mean) and [`torch.mean(input)`](https://pytorch.org/docs/stable/generated/torch.mean.html#torch-mean) will return the mean value of all elements in the `input` tensor\n",
        "\n",
        "> 📝 **Note**   \n",
        "+ Input must be floating point or complex."
      ],
      "metadata": {
        "id": "LQNS4sjfYND8"
      }
    },
    {
      "cell_type": "code",
      "source": [
        "# check dtype of the tensor t\n",
        "t.dtype"
      ],
      "metadata": {
        "colab": {
          "base_uri": "https://localhost:8080/"
        },
        "id": "sw0jhrEtZAQ8",
        "outputId": "b2c96d90-a109-452e-d735-5f1ace260d2a"
      },
      "execution_count": 10,
      "outputs": [
        {
          "output_type": "execute_result",
          "data": {
            "text/plain": [
              "torch.int64"
            ]
          },
          "metadata": {},
          "execution_count": 10
        }
      ]
    },
    {
      "cell_type": "code",
      "source": [
        "# returning mean\n",
        "t.type(torch.float32).mean(), torch.mean(t.type(torch.float32))"
      ],
      "metadata": {
        "colab": {
          "base_uri": "https://localhost:8080/"
        },
        "id": "gvHX2bqQZGKU",
        "outputId": "2808c236-6dc8-4f55-e465-e1d9cc97c4d2"
      },
      "execution_count": 11,
      "outputs": [
        {
          "output_type": "execute_result",
          "data": {
            "text/plain": [
              "(tensor(15.), tensor(15.))"
            ]
          },
          "metadata": {},
          "execution_count": 11
        }
      ]
    },
    {
      "cell_type": "markdown",
      "source": [
        "### Unique\n",
        "> [`torch.unique(input, sorted=True, return_inverse=False, return_counts=False`](https://pytorch.org/docs/stable/generated/torch.unique.html#torch.unique) and [`torch.Tensor.unique()`](https://pytorch.org/docs/stable/generated/torch.Tensor.unique.html#torch-tensor-unique) will return the unique elements of the `input` tensor\n",
        "+ `return_inverse` _(bool)_ – Whether to also return the indices for where elements in the original input ended up in the returned unique list.\n",
        "+ `return_counts` _(bool)_ – Whether to also return the counts for each unique element."
      ],
      "metadata": {
        "id": "-dh-HhHVGrr-"
      }
    },
    {
      "cell_type": "code",
      "source": [
        "# create a tensor\n",
        "a = torch.randint(low=1, high=5, size=(30,))\n",
        "a"
      ],
      "metadata": {
        "colab": {
          "base_uri": "https://localhost:8080/"
        },
        "id": "VLIBnpztHnh9",
        "outputId": "ffea0ef1-e425-4501-ae78-3411620e4b9d"
      },
      "execution_count": 19,
      "outputs": [
        {
          "output_type": "execute_result",
          "data": {
            "text/plain": [
              "tensor([4, 1, 2, 1, 4, 3, 1, 3, 2, 4, 1, 1, 4, 2, 4, 1, 3, 2, 3, 3, 1, 3, 3, 2,\n",
              "        2, 3, 3, 1, 4, 1])"
            ]
          },
          "metadata": {},
          "execution_count": 19
        }
      ]
    },
    {
      "cell_type": "code",
      "source": [
        "# return unique elements\n",
        "a.unique()"
      ],
      "metadata": {
        "colab": {
          "base_uri": "https://localhost:8080/"
        },
        "id": "IrsfMkHTIPst",
        "outputId": "e8580327-bc5e-44b2-dafa-19ac9a788f30"
      },
      "execution_count": 20,
      "outputs": [
        {
          "output_type": "execute_result",
          "data": {
            "text/plain": [
              "tensor([1, 2, 3, 4])"
            ]
          },
          "metadata": {},
          "execution_count": 20
        }
      ]
    },
    {
      "cell_type": "code",
      "source": [
        "# return unique elements with their counts\n",
        "a.unique(return_counts=True)"
      ],
      "metadata": {
        "colab": {
          "base_uri": "https://localhost:8080/"
        },
        "id": "W5fOflyyIUN0",
        "outputId": "ccb219e0-a92f-46bd-dfcb-96188b168b26"
      },
      "execution_count": 21,
      "outputs": [
        {
          "output_type": "execute_result",
          "data": {
            "text/plain": [
              "(tensor([1, 2, 3, 4]), tensor([9, 6, 9, 6]))"
            ]
          },
          "metadata": {},
          "execution_count": 21
        }
      ]
    },
    {
      "cell_type": "markdown",
      "source": [
        "### Total number of elements\n",
        "> [`torch.numel(input)`](https://pytorch.org/docs/stable/generated/torch.numel.html#torch.numel) and [`Tensor.numel()`](https://pytorch.org/docs/stable/generated/torch.Tensor.numel.html#torch.Tensor.numel) will return the total number of elements in the input tensor."
      ],
      "metadata": {
        "id": "5KDS71K5Ioy8"
      }
    },
    {
      "cell_type": "code",
      "source": [
        "# create a tensor\n",
        "b = torch.randn(2, 2, 4)\n",
        "b.numel()"
      ],
      "metadata": {
        "colab": {
          "base_uri": "https://localhost:8080/"
        },
        "id": "C36PU-4tJE1U",
        "outputId": "7b9b855c-5cc1-47c6-9c82-7127826e3477"
      },
      "execution_count": 24,
      "outputs": [
        {
          "output_type": "execute_result",
          "data": {
            "text/plain": [
              "16"
            ]
          },
          "metadata": {},
          "execution_count": 24
        }
      ]
    },
    {
      "cell_type": "markdown",
      "source": [
        "> ▶️ **Up Next**  \n",
        "\n",
        ">Reshaping, Viewing, Flattening & Stacking Tensors"
      ],
      "metadata": {
        "id": "lgyyAGbjjdhn"
      }
    }
  ]
}