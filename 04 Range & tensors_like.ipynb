{
  "nbformat": 4,
  "nbformat_minor": 0,
  "metadata": {
    "colab": {
      "provenance": [],
      "toc_visible": true,
      "authorship_tag": "ABX9TyMPFr3k1I+na420xuP18T6X"
    },
    "kernelspec": {
      "name": "python3",
      "display_name": "Python 3"
    },
    "language_info": {
      "name": "python"
    }
  },
  "cells": [
    {
      "cell_type": "markdown",
      "source": [
        "# **[`torch.arange`](https://pytorch.org/docs/stable/generated/torch.arange.html#torch-arange)**\n",
        "> Sometimes you might want a range of numbers, such as `1` to `10` or `0` to `100`\n",
        "\n",
        "```\n",
        "torch.arange(start=0, end, step=1, *, out=None, dtype=None, layout=torch.strided, device=None,\n",
        "      requires_grad=False)\n",
        "```"
      ],
      "metadata": {
        "id": "89KuSnDpK52X"
      }
    },
    {
      "cell_type": "code",
      "execution_count": 1,
      "metadata": {
        "colab": {
          "base_uri": "https://localhost:8080/",
          "height": 35
        },
        "id": "zE4TTDQ5Jufm",
        "outputId": "f207db10-c72b-464a-acc5-93783a9a84b2"
      },
      "outputs": [
        {
          "output_type": "execute_result",
          "data": {
            "text/plain": [
              "'2.5.1+cu121'"
            ],
            "application/vnd.google.colaboratory.intrinsic+json": {
              "type": "string"
            }
          },
          "metadata": {},
          "execution_count": 1
        }
      ],
      "source": [
        "# import torch\n",
        "import torch\n",
        "torch.__version__"
      ]
    },
    {
      "cell_type": "code",
      "source": [
        "# 0 to 10\n",
        "one_to_ten = torch.arange(1, 11)\n",
        "one_to_ten"
      ],
      "metadata": {
        "colab": {
          "base_uri": "https://localhost:8080/"
        },
        "id": "nuCj1tJrLs8h",
        "outputId": "d71ddb1a-60bb-4509-da4a-dbbfa25cb4dd"
      },
      "execution_count": null,
      "outputs": [
        {
          "output_type": "execute_result",
          "data": {
            "text/plain": [
              "tensor([ 1,  2,  3,  4,  5,  6,  7,  8,  9, 10])"
            ]
          },
          "metadata": {},
          "execution_count": 13
        }
      ]
    },
    {
      "cell_type": "code",
      "source": [
        "# size\n",
        "one_to_ten.shape"
      ],
      "metadata": {
        "colab": {
          "base_uri": "https://localhost:8080/"
        },
        "id": "NGFAI4CzLs4q",
        "outputId": "e3f7170f-de79-4c86-84c5-fad916d8f634"
      },
      "execution_count": null,
      "outputs": [
        {
          "output_type": "execute_result",
          "data": {
            "text/plain": [
              "torch.Size([10])"
            ]
          },
          "metadata": {},
          "execution_count": 14
        }
      ]
    },
    {
      "cell_type": "code",
      "source": [
        "# with a step of 2\n",
        "torch.arange(2, 22, 2)"
      ],
      "metadata": {
        "colab": {
          "base_uri": "https://localhost:8080/"
        },
        "id": "DPZWpCCxEM6I",
        "outputId": "241dfb51-3196-443e-fede-325ff0305de6"
      },
      "execution_count": null,
      "outputs": [
        {
          "output_type": "execute_result",
          "data": {
            "text/plain": [
              "tensor([ 2,  4,  6,  8, 10, 12, 14, 16, 18, 20])"
            ]
          },
          "metadata": {},
          "execution_count": 16
        }
      ]
    },
    {
      "cell_type": "markdown",
      "source": [
        "# **[`torch.linspace`](https://pytorch.org/docs/stable/generated/torch.linspace.html#torch-linspace)**\n",
        "```\n",
        "torch.linspace(start, end, steps, *, out=None, dtype=None,  \n",
        "    layout=torch.strided, device=None, requires_grad=False)\n",
        "```\n",
        "> Creates a one-dimensional tensor of size `steps` whose values are evenly spaced from `start` to `end`, inclusive"
      ],
      "metadata": {
        "id": "Dq8imuRXogba"
      }
    },
    {
      "cell_type": "code",
      "source": [
        "torch.linspace(start=4, end=10, steps=16)"
      ],
      "metadata": {
        "colab": {
          "base_uri": "https://localhost:8080/"
        },
        "id": "PMCdFNVepKzy",
        "outputId": "c4c63e78-204d-4718-cfbf-18bc173af786"
      },
      "execution_count": 3,
      "outputs": [
        {
          "output_type": "execute_result",
          "data": {
            "text/plain": [
              "tensor([ 4.0000,  4.4000,  4.8000,  5.2000,  5.6000,  6.0000,  6.4000,  6.8000,\n",
              "         7.2000,  7.6000,  8.0000,  8.4000,  8.8000,  9.2000,  9.6000, 10.0000])"
            ]
          },
          "metadata": {},
          "execution_count": 3
        }
      ]
    },
    {
      "cell_type": "markdown",
      "source": [
        "# **[`torch.zeros_like`](https://pytorch.org/docs/stable/generated/torch.ones_like.html#torch-ones-like)**\n",
        "```\n",
        "torch.ones_like(input, *, dtype=None, layout=None, device=None, requires_grad=False,\n",
        "    memory_format=torch.preserve_format)\n",
        "```\n",
        "> Returns a tensor filled with the scalar value `1`, with the same size as `input`"
      ],
      "metadata": {
        "id": "CUGTt9KeE6C8"
      }
    },
    {
      "cell_type": "code",
      "source": [
        "torch.ones_like(one_to_ten)"
      ],
      "metadata": {
        "colab": {
          "base_uri": "https://localhost:8080/"
        },
        "id": "tZwiHeo6FWDB",
        "outputId": "77087fea-febc-4c97-f392-cd46b2dee1a6"
      },
      "execution_count": null,
      "outputs": [
        {
          "output_type": "execute_result",
          "data": {
            "text/plain": [
              "tensor([1, 1, 1, 1, 1, 1, 1, 1, 1, 1])"
            ]
          },
          "metadata": {},
          "execution_count": 17
        }
      ]
    },
    {
      "cell_type": "markdown",
      "source": [
        "# **[`torch.zeros_like`](https://pytorch.org/docs/stable/generated/torch.zeros_like.html#torch-zeros-like)**\n",
        "```\n",
        "torch.zeros_like(input, *, dtype=None, layout=None, device=None, requires_grad=False,\n",
        "    memory_format=torch.preserve_format)\n",
        "```\n",
        "> Returns a tensor filled with the scalar value `0`, with the same size as `input`"
      ],
      "metadata": {
        "id": "Jut9POPLF2k6"
      }
    },
    {
      "cell_type": "code",
      "source": [
        "# create random tensor\n",
        "rand_tensor = torch.rand(2, 2, 3)\n",
        "rand_tensor"
      ],
      "metadata": {
        "colab": {
          "base_uri": "https://localhost:8080/"
        },
        "id": "Nuk3JR2wGGu9",
        "outputId": "41c41995-b60f-48ba-ad9f-20d783d83ad7"
      },
      "execution_count": null,
      "outputs": [
        {
          "output_type": "execute_result",
          "data": {
            "text/plain": [
              "tensor([[[0.9765, 0.2128, 0.8815],\n",
              "         [0.2054, 0.9880, 0.6675]],\n",
              "\n",
              "        [[0.5165, 0.0335, 0.5286],\n",
              "         [0.4719, 0.8609, 0.0951]]])"
            ]
          },
          "metadata": {},
          "execution_count": 20
        }
      ]
    },
    {
      "cell_type": "code",
      "source": [
        "# create a tensor of zeros but same shape as above\n",
        "torch.zeros_like(rand_tensor)"
      ],
      "metadata": {
        "colab": {
          "base_uri": "https://localhost:8080/"
        },
        "id": "KdwhXYr-GTUc",
        "outputId": "96b88f1c-2d31-4d4f-dfa9-0331bf3bd45f"
      },
      "execution_count": null,
      "outputs": [
        {
          "output_type": "execute_result",
          "data": {
            "text/plain": [
              "tensor([[[0., 0., 0.],\n",
              "         [0., 0., 0.]],\n",
              "\n",
              "        [[0., 0., 0.],\n",
              "         [0., 0., 0.]]])"
            ]
          },
          "metadata": {},
          "execution_count": 21
        }
      ]
    },
    {
      "cell_type": "markdown",
      "source": [
        "> ▶️ **Up Next**  \n",
        "\n",
        "> Tensor data types"
      ],
      "metadata": {
        "id": "z9KKfuf5mzfo"
      }
    }
  ]
}