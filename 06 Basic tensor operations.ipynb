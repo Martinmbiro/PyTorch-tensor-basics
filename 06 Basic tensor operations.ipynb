{
  "nbformat": 4,
  "nbformat_minor": 0,
  "metadata": {
    "colab": {
      "provenance": [],
      "collapsed_sections": [
        "amb8mgeOLYoK",
        "26pdeLmFHQUs",
        "hS-IVUTILtrx"
      ],
      "toc_visible": true,
      "authorship_tag": "ABX9TyP//k9QJPdYPOPzEDBGgGdM",
      "include_colab_link": true
    },
    "kernelspec": {
      "name": "python3",
      "display_name": "Python 3"
    },
    "language_info": {
      "name": "python"
    }
  },
  "cells": [
    {
      "cell_type": "markdown",
      "metadata": {
        "id": "view-in-github",
        "colab_type": "text"
      },
      "source": [
        "<a href=\"https://colab.research.google.com/github/Martinmbiro/PyTorch-tensor-basics/blob/main/06%20Basic%20tensor%20operations.ipynb\" target=\"_parent\"><img src=\"https://colab.research.google.com/assets/colab-badge.svg\" alt=\"Open In Colab\"/></a>"
      ]
    },
    {
      "cell_type": "markdown",
      "source": [
        "# **Tensor Operations**\n",
        "> In deep leaning, data (images, text, audio, e.t.c) is represented as _tensors_  \n",
        "\n",
        "> Then, a _Neural Network_ will be comprised of mathematical functions that Pytorch is going to run on the data, to create a representation of the patterns in the input *data*. Some basic operations include the following:\n",
        "+ Addition\n",
        "+ Subtraction\n",
        "+ Division\n",
        "+ Matrix multiplication\n",
        "+ Element-wise multiplication"
      ],
      "metadata": {
        "id": "0P_uSWbIF0oa"
      }
    },
    {
      "cell_type": "markdown",
      "source": [
        "> **Reference** 📚   \n",
        "+ More Mathematical operations can be found in the Pytorch documentation linked [`here`](https://pytorch.org/docs/stable/torch.html#math-operations)"
      ],
      "metadata": {
        "id": "kcDE_DrhNww1"
      }
    },
    {
      "cell_type": "code",
      "source": [
        "# import torch\n",
        "import torch\n",
        "print(torch.__version__)"
      ],
      "metadata": {
        "colab": {
          "base_uri": "https://localhost:8080/"
        },
        "id": "ZRvGqBfAOaR-",
        "outputId": "a759bc65-0b53-45c0-aaa9-5872173eccef"
      },
      "execution_count": null,
      "outputs": [
        {
          "output_type": "stream",
          "name": "stdout",
          "text": [
            "2.5.1+cu121\n"
          ]
        }
      ]
    },
    {
      "cell_type": "markdown",
      "source": [
        "## Addition\n",
        "> Can be achieved using [`torch.add()`](https://pytorch.org/docs/stable/generated/torch.add.html#torch-add) or normal python addition `+` operator\n",
        "+ `torch.add()` adds `other`, scaled by `alpha`, to `input`\n",
        "\n",
        "```\n",
        "  torch.add(input, other, *, alpha=1, out=None)\n",
        "```\n",
        "> **Parameters**\n",
        "+ `input` (Tensor) – the input tensor.\n",
        "+ `other` (Tensor or Number) – the tensor or number to add to `input`\n",
        "+ `alpha` (Number) – the multiplier for `other`\n",
        "+ `out` (Tensor, optional) – the output tensor\n"
      ],
      "metadata": {
        "id": "amb8mgeOLYoK"
      }
    },
    {
      "cell_type": "code",
      "execution_count": null,
      "metadata": {
        "colab": {
          "base_uri": "https://localhost:8080/"
        },
        "id": "-HScBJipE8-c",
        "outputId": "339a3e8e-0417-4847-fd2b-9d50e1d2640e"
      },
      "outputs": [
        {
          "output_type": "execute_result",
          "data": {
            "text/plain": [
              "tensor([1, 2, 3])"
            ]
          },
          "metadata": {},
          "execution_count": 7
        }
      ],
      "source": [
        "a = torch.tensor([1, 2, 3])\n",
        "a"
      ]
    },
    {
      "cell_type": "code",
      "source": [
        "# using addition symbol\n",
        "a + 10"
      ],
      "metadata": {
        "colab": {
          "base_uri": "https://localhost:8080/"
        },
        "id": "1rqMvS7XOspX",
        "outputId": "2abedb5a-67b9-4af4-dd10-e1bd9f7eb7b5"
      },
      "execution_count": null,
      "outputs": [
        {
          "output_type": "execute_result",
          "data": {
            "text/plain": [
              "tensor([11, 12, 13])"
            ]
          },
          "metadata": {},
          "execution_count": 8
        }
      ]
    },
    {
      "cell_type": "code",
      "source": [
        "# using torch.add() function\n",
        "b = torch.rand(3, 1)\n",
        "b"
      ],
      "metadata": {
        "colab": {
          "base_uri": "https://localhost:8080/"
        },
        "id": "epdS4KP1OzlF",
        "outputId": "ee2e45b2-91d7-410f-ef2d-221e29725662"
      },
      "execution_count": null,
      "outputs": [
        {
          "output_type": "execute_result",
          "data": {
            "text/plain": [
              "tensor([[0.3126],\n",
              "        [0.2078],\n",
              "        [0.1652]])"
            ]
          },
          "metadata": {},
          "execution_count": 9
        }
      ]
    },
    {
      "cell_type": "code",
      "source": [
        "torch.add(b, 10)"
      ],
      "metadata": {
        "colab": {
          "base_uri": "https://localhost:8080/"
        },
        "id": "gKqdhKltPBE3",
        "outputId": "c977234f-898c-41f6-b668-b3c93e31a545"
      },
      "execution_count": null,
      "outputs": [
        {
          "output_type": "execute_result",
          "data": {
            "text/plain": [
              "tensor([[10.3126],\n",
              "        [10.2078],\n",
              "        [10.1652]])"
            ]
          },
          "metadata": {},
          "execution_count": 10
        }
      ]
    },
    {
      "cell_type": "code",
      "source": [
        "c = torch.rand(3)\n",
        "c"
      ],
      "metadata": {
        "colab": {
          "base_uri": "https://localhost:8080/"
        },
        "id": "15yVb18NQFWF",
        "outputId": "b57ce00e-e3f6-4010-d09f-e7e904e1229f"
      },
      "execution_count": null,
      "outputs": [
        {
          "output_type": "execute_result",
          "data": {
            "text/plain": [
              "tensor([0.9641, 0.9762, 0.4767])"
            ]
          },
          "metadata": {},
          "execution_count": 13
        }
      ]
    },
    {
      "cell_type": "code",
      "source": [
        "torch.add(b, c, alpha=10)"
      ],
      "metadata": {
        "colab": {
          "base_uri": "https://localhost:8080/"
        },
        "id": "0JYYGUTYQQnb",
        "outputId": "3a7dc2eb-17b5-47d8-bb70-7f39cc18a0bc"
      },
      "execution_count": null,
      "outputs": [
        {
          "output_type": "execute_result",
          "data": {
            "text/plain": [
              "tensor([[ 9.9533, 10.0744,  5.0794],\n",
              "        [ 9.8485,  9.9696,  4.9746],\n",
              "        [ 9.8059,  9.9270,  4.9320]])"
            ]
          },
          "metadata": {},
          "execution_count": 14
        }
      ]
    },
    {
      "cell_type": "code",
      "source": [
        "torch.add(c, b, alpha=10)"
      ],
      "metadata": {
        "colab": {
          "base_uri": "https://localhost:8080/"
        },
        "id": "GfJ_f7eIQ71E",
        "outputId": "8577275d-9a3e-48b1-cab3-3d0c47b836d8"
      },
      "execution_count": null,
      "outputs": [
        {
          "output_type": "execute_result",
          "data": {
            "text/plain": [
              "tensor([[4.0900, 4.1021, 3.6026],\n",
              "        [3.0417, 3.0538, 2.5543],\n",
              "        [2.6161, 2.6282, 2.1287]])"
            ]
          },
          "metadata": {},
          "execution_count": 15
        }
      ]
    },
    {
      "cell_type": "markdown",
      "source": [
        "## Subtraction\n",
        "> Can be achieved using [`torch.sub()`](https://pytorch.org/docs/stable/generated/torch.sub.html#torch-sub) or normal python subtraction `-` operator\n",
        "+ `torch.sub()` subtracts `other`, scaled by `alpha`, from `input`\n",
        "\n",
        "```\n",
        "  torch.sub(input, other, *, alpha=1, out=None)\n",
        "```\n",
        "> **Parameters**\n",
        "+ `input` (Tensor) – the input tensor.\n",
        "+ `other` (Tensor or Number) – the tensor or number to subtract from `input`\n",
        "+ `alpha` (Number) – the multiplier for `other`\n",
        "+ `out` (Tensor, optional) – the output tensor"
      ],
      "metadata": {
        "id": "26pdeLmFHQUs"
      }
    },
    {
      "cell_type": "code",
      "source": [
        "a = torch.tensor([3, 4, 5])\n",
        "a"
      ],
      "metadata": {
        "colab": {
          "base_uri": "https://localhost:8080/"
        },
        "id": "JfJHy8N6HPpI",
        "outputId": "f6a1cb36-4167-4e29-9a71-fc3fae725d47"
      },
      "execution_count": null,
      "outputs": [
        {
          "output_type": "execute_result",
          "data": {
            "text/plain": [
              "tensor([3, 4, 5])"
            ]
          },
          "metadata": {},
          "execution_count": 16
        }
      ]
    },
    {
      "cell_type": "code",
      "source": [
        "# using subtration symbol\n",
        "a - 1"
      ],
      "metadata": {
        "colab": {
          "base_uri": "https://localhost:8080/"
        },
        "id": "UuTmVCO7H9ih",
        "outputId": "af417c8d-1195-45f1-d4a5-fc26f2b46540"
      },
      "execution_count": null,
      "outputs": [
        {
          "output_type": "execute_result",
          "data": {
            "text/plain": [
              "tensor([2, 3, 4])"
            ]
          },
          "metadata": {},
          "execution_count": 17
        }
      ]
    },
    {
      "cell_type": "code",
      "source": [
        "b = torch.rand(3)\n",
        "b"
      ],
      "metadata": {
        "colab": {
          "base_uri": "https://localhost:8080/"
        },
        "id": "jfR3jk0VIL1h",
        "outputId": "2f99b7f1-719e-467f-aec5-08692dcf501f"
      },
      "execution_count": null,
      "outputs": [
        {
          "output_type": "execute_result",
          "data": {
            "text/plain": [
              "tensor([0.9325, 0.5772, 0.0210])"
            ]
          },
          "metadata": {},
          "execution_count": 18
        }
      ]
    },
    {
      "cell_type": "code",
      "source": [
        "c = torch.rand(3)\n",
        "c"
      ],
      "metadata": {
        "colab": {
          "base_uri": "https://localhost:8080/"
        },
        "id": "qlX2yUJ6LGXo",
        "outputId": "737d2b08-f370-4efc-b605-915393603ed8"
      },
      "execution_count": null,
      "outputs": [
        {
          "output_type": "execute_result",
          "data": {
            "text/plain": [
              "tensor([0.3429, 0.6997, 0.4983])"
            ]
          },
          "metadata": {},
          "execution_count": 19
        }
      ]
    },
    {
      "cell_type": "code",
      "source": [
        "# using torch.sub() function\n",
        "torch.sub(b, c, alpha=2)"
      ],
      "metadata": {
        "colab": {
          "base_uri": "https://localhost:8080/"
        },
        "id": "gMMeW7WYLLLC",
        "outputId": "24237ccd-f6e3-40b9-fcca-10cba98e8b52"
      },
      "execution_count": null,
      "outputs": [
        {
          "output_type": "execute_result",
          "data": {
            "text/plain": [
              "tensor([ 0.2466, -0.8222, -0.9756])"
            ]
          },
          "metadata": {},
          "execution_count": 20
        }
      ]
    },
    {
      "cell_type": "markdown",
      "source": [
        "## Element-wise multiplication\n",
        "> Can be achieved using [`torch.mul()`](https://pytorch.org/docs/stable/generated/torch.sub.html#torch-sub) or normal python multiplication `*` operator\n",
        "\n",
        "```\n",
        "  torch.mul(input, other, *, out=None)\n",
        "```\n",
        "> **Parameters**\n",
        "+ `input` (Tensor) – the input tensor.\n",
        "+ `other` (Tensor or Number) – the tensor or number to multiply by `input`"
      ],
      "metadata": {
        "id": "hS-IVUTILtrx"
      }
    },
    {
      "cell_type": "code",
      "source": [
        "a = torch.rand(3)\n",
        "a"
      ],
      "metadata": {
        "colab": {
          "base_uri": "https://localhost:8080/"
        },
        "id": "j5miWL-IM980",
        "outputId": "9c476f2a-f105-4a11-f08d-77da830e0aff"
      },
      "execution_count": null,
      "outputs": [
        {
          "output_type": "execute_result",
          "data": {
            "text/plain": [
              "tensor([0.5956, 0.7989, 0.0935])"
            ]
          },
          "metadata": {},
          "execution_count": 27
        }
      ]
    },
    {
      "cell_type": "code",
      "source": [
        "# using multiplication symbol\n",
        "a * 10"
      ],
      "metadata": {
        "colab": {
          "base_uri": "https://localhost:8080/"
        },
        "id": "aoDPYFIDNCQi",
        "outputId": "c8314ebd-f6a2-4d93-b614-16010379c999"
      },
      "execution_count": null,
      "outputs": [
        {
          "output_type": "execute_result",
          "data": {
            "text/plain": [
              "tensor([5.9556, 7.9895, 0.9355])"
            ]
          },
          "metadata": {},
          "execution_count": 28
        }
      ]
    },
    {
      "cell_type": "code",
      "source": [
        "b = torch.rand(3, 1)\n",
        "b"
      ],
      "metadata": {
        "colab": {
          "base_uri": "https://localhost:8080/"
        },
        "id": "iVDHDt9CPFWe",
        "outputId": "1d7cf53c-5e11-4200-cc4f-3c565b5264ec"
      },
      "execution_count": null,
      "outputs": [
        {
          "output_type": "execute_result",
          "data": {
            "text/plain": [
              "tensor([[0.1763],\n",
              "        [0.5161],\n",
              "        [0.5706]])"
            ]
          },
          "metadata": {},
          "execution_count": 29
        }
      ]
    },
    {
      "cell_type": "code",
      "source": [
        "c = torch.rand(3)\n",
        "c"
      ],
      "metadata": {
        "colab": {
          "base_uri": "https://localhost:8080/"
        },
        "id": "CBOLPRx0PN40",
        "outputId": "006c3c4b-b241-4ade-a00d-4a8cce83ad70"
      },
      "execution_count": null,
      "outputs": [
        {
          "output_type": "execute_result",
          "data": {
            "text/plain": [
              "tensor([0.7132, 0.4484, 0.4831])"
            ]
          },
          "metadata": {},
          "execution_count": 31
        }
      ]
    },
    {
      "cell_type": "code",
      "source": [
        "torch.mul(b, c)"
      ],
      "metadata": {
        "colab": {
          "base_uri": "https://localhost:8080/"
        },
        "id": "RxOkBMloPXij",
        "outputId": "c67503d1-a5f5-4db4-903e-35884fad150d"
      },
      "execution_count": null,
      "outputs": [
        {
          "output_type": "execute_result",
          "data": {
            "text/plain": [
              "tensor([[0.1257, 0.0791, 0.0852],\n",
              "        [0.3681, 0.2314, 0.2493],\n",
              "        [0.4070, 0.2559, 0.2757]])"
            ]
          },
          "metadata": {},
          "execution_count": 32
        }
      ]
    },
    {
      "cell_type": "markdown",
      "source": [
        "## Division\n",
        "> Can be achieved using [`torch.div()`](https://pytorch.org/docs/stable/generated/torch.sub.html#torch-sub) or normal python division `/` operator\n",
        "\n",
        "+ `torch.div()` divides each element of the `input` by the corresponding element of `other`\n",
        "\n",
        "```\n",
        "  torch.div(input, other, *, rounding_mode=None, out=None)\n",
        "```\n",
        "> **Parameters**\n",
        "+ `input` (Tensor) – the input tensor.\n",
        "+ `other` (Tensor or Number) – the tensor or number to multiply by `input`"
      ],
      "metadata": {
        "id": "2DRA_D-dQiuW"
      }
    },
    {
      "cell_type": "code",
      "source": [
        "a = torch.rand(3)\n",
        "a"
      ],
      "metadata": {
        "colab": {
          "base_uri": "https://localhost:8080/"
        },
        "id": "yr8fYzJzQmgW",
        "outputId": "b89a35b5-c21a-44af-a815-61a1e3c6214e"
      },
      "execution_count": null,
      "outputs": [
        {
          "output_type": "execute_result",
          "data": {
            "text/plain": [
              "tensor([0.1049, 0.6067, 0.1076])"
            ]
          },
          "metadata": {},
          "execution_count": 33
        }
      ]
    },
    {
      "cell_type": "code",
      "source": [
        "a / 2"
      ],
      "metadata": {
        "colab": {
          "base_uri": "https://localhost:8080/"
        },
        "id": "zgIZa21xQp98",
        "outputId": "43887af0-a768-4b6b-e03a-e3463c30fb10"
      },
      "execution_count": null,
      "outputs": [
        {
          "output_type": "execute_result",
          "data": {
            "text/plain": [
              "tensor([0.0525, 0.3033, 0.0538])"
            ]
          },
          "metadata": {},
          "execution_count": 34
        }
      ]
    },
    {
      "cell_type": "code",
      "source": [
        "b = torch.rand(4, 4)\n",
        "b"
      ],
      "metadata": {
        "colab": {
          "base_uri": "https://localhost:8080/"
        },
        "id": "aCVItxH9FsB7",
        "outputId": "63955576-32ee-4d39-a511-6c7a547f6eb6"
      },
      "execution_count": null,
      "outputs": [
        {
          "output_type": "execute_result",
          "data": {
            "text/plain": [
              "tensor([[0.3463, 0.2321, 0.7702, 0.2681],\n",
              "        [0.8695, 0.1403, 0.5948, 0.2640],\n",
              "        [0.9949, 0.5121, 0.6803, 0.9982],\n",
              "        [0.7554, 0.0613, 0.7835, 0.9683]])"
            ]
          },
          "metadata": {},
          "execution_count": 39
        }
      ]
    },
    {
      "cell_type": "code",
      "source": [
        "c = torch.rand(4)\n",
        "c"
      ],
      "metadata": {
        "colab": {
          "base_uri": "https://localhost:8080/"
        },
        "id": "loirU_DdFzYD",
        "outputId": "6e9265d0-4593-4cad-e52a-bcfada4100d8"
      },
      "execution_count": null,
      "outputs": [
        {
          "output_type": "execute_result",
          "data": {
            "text/plain": [
              "tensor([0.9833, 0.0111, 0.6783, 0.4034])"
            ]
          },
          "metadata": {},
          "execution_count": 40
        }
      ]
    },
    {
      "cell_type": "code",
      "source": [
        "torch.div(b, c)"
      ],
      "metadata": {
        "colab": {
          "base_uri": "https://localhost:8080/"
        },
        "id": "-akCEdUAF59b",
        "outputId": "bf19b584-2a07-4cd6-8e81-1c1d6555f878"
      },
      "execution_count": null,
      "outputs": [
        {
          "output_type": "execute_result",
          "data": {
            "text/plain": [
              "tensor([[ 0.3521, 20.8814,  1.1355,  0.6646],\n",
              "        [ 0.8843, 12.6242,  0.8770,  0.6544],\n",
              "        [ 1.0118, 46.0823,  1.0029,  2.4745],\n",
              "        [ 0.7682,  5.5127,  1.1551,  2.4004]])"
            ]
          },
          "metadata": {},
          "execution_count": 41
        }
      ]
    },
    {
      "cell_type": "markdown",
      "source": [
        "> ▶️ **Up Next**  \n",
        "\n",
        "> Matrix Multiplication\n"
      ],
      "metadata": {
        "id": "-TQmOzCqJdO1"
      }
    }
  ]
}