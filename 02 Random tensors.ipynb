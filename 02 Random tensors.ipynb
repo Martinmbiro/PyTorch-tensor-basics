{
  "nbformat": 4,
  "nbformat_minor": 0,
  "metadata": {
    "colab": {
      "provenance": [],
      "toc_visible": true,
      "authorship_tag": "ABX9TyON7z3CO2bKIBNDYliym91g"
    },
    "kernelspec": {
      "name": "python3",
      "display_name": "Python 3"
    },
    "language_info": {
      "name": "python"
    }
  },
  "cells": [
    {
      "cell_type": "markdown",
      "source": [
        "# **Random Tensors**\n",
        "> When building machine learning models, it's rare to build tensors by hand like in the previous notebook.  \n",
        "> Why are random tensors important?\n",
        "+ Many neural networks start with tensors full of random numbers\n",
        "+ These random numbers are then better adjusted (using [gradient descent](https://youtu.be/i62czvwDlsw?si=SXvNXyHZQ4fPLufB) and [back propagation](https://youtu.be/S5AGN9XfPK4?si=vUERyJMydAAdGOwI)) to better represent the data"
      ],
      "metadata": {
        "id": "ZIRZoj9mGU-5"
      }
    },
    {
      "cell_type": "code",
      "source": [
        "# import torch\n",
        "import torch\n",
        "print(torch.__version__)"
      ],
      "metadata": {
        "colab": {
          "base_uri": "https://localhost:8080/"
        },
        "id": "sLvSXPnpJS1a",
        "outputId": "cbb4d34b-14db-4cfe-ea60-3294db87ad85"
      },
      "execution_count": null,
      "outputs": [
        {
          "output_type": "stream",
          "name": "stdout",
          "text": [
            "2.5.0+cu121\n"
          ]
        }
      ]
    },
    {
      "cell_type": "markdown",
      "source": [
        "## [`torch.rand`](https://pytorch.org/docs/stable/generated/torch.rand.html#torch-rand)\n",
        "\n",
        "```\n",
        "torch.rand(*size, *, generator=None, out=None, dtype=None, layout=torch.strided,\n",
        "device=None, requires_grad=False, pin_memory=False)\n",
        "```\n",
        "\n",
        "> Returns a tensor filled with random numbers from a uniform distribution on the interval `[0,1]`\n",
        "+ The shape of the tensor is defined by the variable argument `size`"
      ],
      "metadata": {
        "id": "XFl5snbOIfje"
      }
    },
    {
      "cell_type": "code",
      "source": [
        "# random tensor with 3 rows and 4 columns\n",
        "rand_tensor = torch.rand(2, 3, 4)\n",
        "print(rand_tensor)"
      ],
      "metadata": {
        "colab": {
          "base_uri": "https://localhost:8080/"
        },
        "id": "Nymo1pu1Ghc5",
        "outputId": "322d7845-81b0-4753-c157-c41352cca315"
      },
      "execution_count": null,
      "outputs": [
        {
          "output_type": "stream",
          "name": "stdout",
          "text": [
            "tensor([[[0.6958, 0.1897, 0.9744, 0.8218],\n",
            "         [0.2951, 0.3037, 0.1682, 0.0311],\n",
            "         [0.4333, 0.5877, 0.5705, 0.3941]],\n",
            "\n",
            "        [[0.2953, 0.7959, 0.3381, 0.4001],\n",
            "         [0.0186, 0.5247, 0.5405, 0.3227],\n",
            "         [0.8896, 0.8301, 0.9782, 0.8844]]])\n"
          ]
        }
      ]
    },
    {
      "cell_type": "code",
      "source": [
        "# dimensions\n",
        "rand_tensor.ndim"
      ],
      "metadata": {
        "colab": {
          "base_uri": "https://localhost:8080/"
        },
        "id": "ZJeuH81IJYX_",
        "outputId": "f1db46d0-65cc-4989-9cb1-0a5c7e193c32"
      },
      "execution_count": null,
      "outputs": [
        {
          "output_type": "execute_result",
          "data": {
            "text/plain": [
              "3"
            ]
          },
          "metadata": {},
          "execution_count": 8
        }
      ]
    },
    {
      "cell_type": "markdown",
      "source": [
        "> Random tensor with similar shape to an image\n",
        "```\n",
        "  [colour_channels, height, width]\n",
        "```\n",
        "+ Colour channels can either be `Red`, `Green` or `Blue`"
      ],
      "metadata": {
        "id": "tnFVHCETFfMs"
      }
    },
    {
      "cell_type": "code",
      "source": [
        "rand_img_tensor = torch.rand(2, 224, 224)\n",
        "\n",
        "# shape\n",
        "rand_img_tensor.shape"
      ],
      "metadata": {
        "colab": {
          "base_uri": "https://localhost:8080/"
        },
        "id": "Xr-WaXaeFIu9",
        "outputId": "914b7aa6-2696-4995-eedc-3c59bf9bc24f"
      },
      "execution_count": null,
      "outputs": [
        {
          "output_type": "execute_result",
          "data": {
            "text/plain": [
              "torch.Size([2, 224, 224])"
            ]
          },
          "metadata": {},
          "execution_count": 10
        }
      ]
    },
    {
      "cell_type": "code",
      "source": [
        "# dimension\n",
        "rand_img_tensor.ndim"
      ],
      "metadata": {
        "colab": {
          "base_uri": "https://localhost:8080/"
        },
        "id": "zkO6BtgrGUF-",
        "outputId": "4d301166-4341-454f-f385-f757b35f1912"
      },
      "execution_count": null,
      "outputs": [
        {
          "output_type": "execute_result",
          "data": {
            "text/plain": [
              "3"
            ]
          },
          "metadata": {},
          "execution_count": 11
        }
      ]
    },
    {
      "cell_type": "markdown",
      "source": [
        "> ▶️ **Up Next**  \n",
        "\n",
        "> `torch.zeros()` and `torch.ones()`"
      ],
      "metadata": {
        "id": "mfRiE7uxnEyq"
      }
    }
  ]
}