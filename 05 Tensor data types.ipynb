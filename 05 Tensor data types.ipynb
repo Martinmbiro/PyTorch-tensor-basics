{
  "nbformat": 4,
  "nbformat_minor": 0,
  "metadata": {
    "colab": {
      "provenance": [],
      "toc_visible": true,
      "authorship_tag": "ABX9TyMTkXWXumXdOo6Qaha0YRxN",
      "include_colab_link": true
    },
    "kernelspec": {
      "name": "python3",
      "display_name": "Python 3"
    },
    "language_info": {
      "name": "python"
    }
  },
  "cells": [
    {
      "cell_type": "markdown",
      "metadata": {
        "id": "view-in-github",
        "colab_type": "text"
      },
      "source": [
        "<a href=\"https://colab.research.google.com/github/Martinmbiro/PyTorch-tensor-basics/blob/main/05%20Tensor%20data%20types.ipynb\" target=\"_parent\"><img src=\"https://colab.research.google.com/assets/colab-badge.svg\" alt=\"Open In Colab\"/></a>"
      ]
    },
    {
      "cell_type": "markdown",
      "source": [
        "# **Tensor Datatypes**\n",
        "> There are a number of different [`torch.Tensor`](https://pytorch.org/docs/stable/tensors.html#torch-tensor) datatypes available in PyTorch, as described in the link [`here`](https://pytorch.org/docs/stable/tensors.html#torch-tensor)\n",
        "+ Various datatypes might affect precision in computing"
      ],
      "metadata": {
        "id": "eFQsIuUoJ6_G"
      }
    },
    {
      "cell_type": "code",
      "execution_count": null,
      "metadata": {
        "id": "9ekxOhawIato"
      },
      "outputs": [],
      "source": [
        "# import torch\n",
        "import torch"
      ]
    },
    {
      "cell_type": "code",
      "source": [
        "# create a random tensor\n",
        "rand_tensor = torch.rand(3, # size\n",
        "                         dtype=None, # default: torch.float32\n",
        "                         device=None, # default: 'cpu'\n",
        "                         requires_grad=False) # track gradient with tensor's operations?\n",
        "\n",
        "rand_tensor, rand_tensor.dtype, rand_tensor.device"
      ],
      "metadata": {
        "colab": {
          "base_uri": "https://localhost:8080/"
        },
        "id": "rMjMIDDjLmtG",
        "outputId": "c5c53ef6-bbd7-4b81-bcd8-234b6bfe464b"
      },
      "execution_count": null,
      "outputs": [
        {
          "output_type": "execute_result",
          "data": {
            "text/plain": [
              "(tensor([0.0200, 0.0147, 0.6210]), torch.float32, device(type='cpu'))"
            ]
          },
          "metadata": {},
          "execution_count": 6
        }
      ]
    },
    {
      "cell_type": "markdown",
      "source": [
        "## Changing tensor datatype\n"
      ],
      "metadata": {
        "id": "4eCDqcwdJcOk"
      }
    },
    {
      "cell_type": "markdown",
      "source": [
        "### [`torch.Tensor.type(dtype)`](https://pytorch.org/docs/stable/generated/torch.Tensor.type.html#torch-tensor-type)\n",
        "> Returns the type if `dtype` is not provided, else casts this object to the specified type"
      ],
      "metadata": {
        "id": "d7a089vlpVVL"
      }
    },
    {
      "cell_type": "code",
      "source": [
        "# creating a float16 tensor from rand_tensor\n",
        "float_16_tensor = rand_tensor.type(torch.float16)\n",
        "\n",
        "# check dtype\n",
        "float_16_tensor.dtype"
      ],
      "metadata": {
        "colab": {
          "base_uri": "https://localhost:8080/"
        },
        "id": "ARC-uJf9JBhP",
        "outputId": "a7ebe054-d762-44dc-d73c-db3202924d11"
      },
      "execution_count": null,
      "outputs": [
        {
          "output_type": "execute_result",
          "data": {
            "text/plain": [
              "torch.float16"
            ]
          },
          "metadata": {},
          "execution_count": 8
        }
      ]
    },
    {
      "cell_type": "markdown",
      "source": [
        "### [`torch.Tensor.to()`](https://pytorch.org/docs/stable/generated/torch.Tensor.to.html#torch-tensor-to)\n",
        "> Performs Tensor `torch.dtype` and/or `torch.device` conversion, inferred from the arguments"
      ],
      "metadata": {
        "id": "D79aG1EJvWk2"
      }
    },
    {
      "cell_type": "code",
      "source": [
        "# create tensor\n",
        "x = torch.linspace(0, 5, 6)\n",
        "x.dtype"
      ],
      "metadata": {
        "colab": {
          "base_uri": "https://localhost:8080/"
        },
        "id": "VwGr4kq8oz8F",
        "outputId": "ec8133b0-960b-45d4-f539-cfb0d266e8c8"
      },
      "execution_count": null,
      "outputs": [
        {
          "output_type": "execute_result",
          "data": {
            "text/plain": [
              "torch.float32"
            ]
          },
          "metadata": {},
          "execution_count": 3
        }
      ]
    },
    {
      "cell_type": "code",
      "source": [
        "# change dtype of x\n",
        "x = x.to(dtype=torch.float64)\n",
        "x.dtype"
      ],
      "metadata": {
        "colab": {
          "base_uri": "https://localhost:8080/"
        },
        "id": "8s6Wu6W1p0QP",
        "outputId": "cdc0dfe6-3b40-44e7-b606-479694522ac5"
      },
      "execution_count": null,
      "outputs": [
        {
          "output_type": "execute_result",
          "data": {
            "text/plain": [
              "torch.float64"
            ]
          },
          "metadata": {},
          "execution_count": 6
        }
      ]
    },
    {
      "cell_type": "markdown",
      "source": [
        "### Using type-specific methods\n",
        "> 🔔 **Info**\n",
        "+ [`Tensor.float()`](https://pytorch.org/docs/stable/generated/torch.Tensor.float.html#torch.Tensor.float) - converts to `torch.float32`\n",
        "+ [`Tensor.double()`](https://pytorch.org/docs/stable/generated/torch.Tensor.double.html#torch.Tensor.double) - converts to `torch.float64`\n",
        "+ [`Tensor.int()`](https://pytorch.org/docs/stable/generated/torch.Tensor.int.html#torch.Tensor.int) - converts to `torch.int32`\n",
        "+ [`Tensor.long()`](https://pytorch.org/docs/stable/generated/torch.Tensor.long.html#torch.Tensor.long) - converts to `torch.int64`"
      ],
      "metadata": {
        "id": "37Igzi79qGnc"
      }
    },
    {
      "cell_type": "code",
      "source": [
        "# create a tensor with specified type\n",
        "z = torch.arange(1, 11, dtype=torch.int64)\n",
        "z.dtype"
      ],
      "metadata": {
        "colab": {
          "base_uri": "https://localhost:8080/"
        },
        "id": "1209VRftrZt3",
        "outputId": "d4fef285-dec2-4322-f097-135f94ff5be3"
      },
      "execution_count": null,
      "outputs": [
        {
          "output_type": "execute_result",
          "data": {
            "text/plain": [
              "torch.int64"
            ]
          },
          "metadata": {},
          "execution_count": 7
        }
      ]
    },
    {
      "cell_type": "code",
      "source": [
        "# change type\n",
        "z.int()"
      ],
      "metadata": {
        "colab": {
          "base_uri": "https://localhost:8080/"
        },
        "id": "oErxJ32yro7-",
        "outputId": "66086253-571b-41a9-bb4f-4d15fd1becd3"
      },
      "execution_count": null,
      "outputs": [
        {
          "output_type": "execute_result",
          "data": {
            "text/plain": [
              "tensor([ 1,  2,  3,  4,  5,  6,  7,  8,  9, 10], dtype=torch.int32)"
            ]
          },
          "metadata": {},
          "execution_count": 8
        }
      ]
    },
    {
      "cell_type": "markdown",
      "source": [
        "> 📝 **Note**  \n",
        "> Tensor datatype erros are one of the three major errors one is likely to run into in deep learning. These three major errors include:\n",
        "+ Tensor not right datatype\n",
        "+ Tensor not right shape\n",
        "+ Tensor not right device"
      ],
      "metadata": {
        "id": "507Oi_omKeAR"
      }
    },
    {
      "cell_type": "markdown",
      "source": [
        "> ▶️ **Up Next**  \n",
        "\n",
        "> Basic tensor operations"
      ],
      "metadata": {
        "id": "TNmn5z0pmqfY"
      }
    }
  ]
}